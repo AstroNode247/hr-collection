{
 "cells": [
  {
   "cell_type": "code",
   "execution_count": 1,
   "id": "1437faec",
   "metadata": {
    "pycharm": {
     "name": "#%%\n"
    }
   },
   "outputs": [],
   "source": [
    "import pandas as pd\n",
    "import numpy as np\n",
    "\n",
    "import matplotlib.pyplot as plt\n",
    "import seaborn as sns"
   ]
  },
  {
   "cell_type": "code",
   "execution_count": 2,
   "id": "2e5c6ce2",
   "metadata": {
    "execution": {
     "iopub.execute_input": "2021-07-21T20:36:51.207040Z",
     "iopub.status.busy": "2021-07-21T20:36:51.206304Z",
     "iopub.status.idle": "2021-07-21T20:36:51.424949Z",
     "shell.execute_reply": "2021-07-21T20:36:51.425414Z",
     "shell.execute_reply.started": "2021-07-21T20:22:52.794515Z"
    },
    "papermill": {
     "duration": 0.274475,
     "end_time": "2021-07-21T20:36:51.425611",
     "exception": false,
     "start_time": "2021-07-21T20:36:51.151136",
     "status": "completed"
    },
    "tags": []
   },
   "outputs": [
    {
     "data": {
      "text/html": [
       "<div>\n",
       "<style scoped>\n",
       "    .dataframe tbody tr th:only-of-type {\n",
       "        vertical-align: middle;\n",
       "    }\n",
       "\n",
       "    .dataframe tbody tr th {\n",
       "        vertical-align: top;\n",
       "    }\n",
       "\n",
       "    .dataframe thead th {\n",
       "        text-align: right;\n",
       "    }\n",
       "</style>\n",
       "<table border=\"1\" class=\"dataframe\">\n",
       "  <thead>\n",
       "    <tr style=\"text-align: right;\">\n",
       "      <th></th>\n",
       "      <th>employee_id</th>\n",
       "      <th>department</th>\n",
       "      <th>region</th>\n",
       "      <th>education</th>\n",
       "      <th>gender</th>\n",
       "      <th>recruitment_channel</th>\n",
       "      <th>no_of_trainings</th>\n",
       "      <th>age</th>\n",
       "      <th>previous_year_rating</th>\n",
       "      <th>length_of_service</th>\n",
       "      <th>awards_won?</th>\n",
       "      <th>avg_training_score</th>\n",
       "      <th>is_promoted</th>\n",
       "    </tr>\n",
       "  </thead>\n",
       "  <tbody>\n",
       "    <tr>\n",
       "      <th>0</th>\n",
       "      <td>65438</td>\n",
       "      <td>Sales &amp; Marketing</td>\n",
       "      <td>region_7</td>\n",
       "      <td>Master's &amp; above</td>\n",
       "      <td>f</td>\n",
       "      <td>sourcing</td>\n",
       "      <td>1</td>\n",
       "      <td>35</td>\n",
       "      <td>5.0</td>\n",
       "      <td>8</td>\n",
       "      <td>0</td>\n",
       "      <td>49</td>\n",
       "      <td>0</td>\n",
       "    </tr>\n",
       "    <tr>\n",
       "      <th>1</th>\n",
       "      <td>65141</td>\n",
       "      <td>Operations</td>\n",
       "      <td>region_22</td>\n",
       "      <td>Bachelor's</td>\n",
       "      <td>m</td>\n",
       "      <td>other</td>\n",
       "      <td>1</td>\n",
       "      <td>30</td>\n",
       "      <td>5.0</td>\n",
       "      <td>4</td>\n",
       "      <td>0</td>\n",
       "      <td>60</td>\n",
       "      <td>0</td>\n",
       "    </tr>\n",
       "    <tr>\n",
       "      <th>2</th>\n",
       "      <td>7513</td>\n",
       "      <td>Sales &amp; Marketing</td>\n",
       "      <td>region_19</td>\n",
       "      <td>Bachelor's</td>\n",
       "      <td>m</td>\n",
       "      <td>sourcing</td>\n",
       "      <td>1</td>\n",
       "      <td>34</td>\n",
       "      <td>3.0</td>\n",
       "      <td>7</td>\n",
       "      <td>0</td>\n",
       "      <td>50</td>\n",
       "      <td>0</td>\n",
       "    </tr>\n",
       "    <tr>\n",
       "      <th>3</th>\n",
       "      <td>2542</td>\n",
       "      <td>Sales &amp; Marketing</td>\n",
       "      <td>region_23</td>\n",
       "      <td>Bachelor's</td>\n",
       "      <td>m</td>\n",
       "      <td>other</td>\n",
       "      <td>2</td>\n",
       "      <td>39</td>\n",
       "      <td>1.0</td>\n",
       "      <td>10</td>\n",
       "      <td>0</td>\n",
       "      <td>50</td>\n",
       "      <td>0</td>\n",
       "    </tr>\n",
       "    <tr>\n",
       "      <th>4</th>\n",
       "      <td>48945</td>\n",
       "      <td>Technology</td>\n",
       "      <td>region_26</td>\n",
       "      <td>Bachelor's</td>\n",
       "      <td>m</td>\n",
       "      <td>other</td>\n",
       "      <td>1</td>\n",
       "      <td>45</td>\n",
       "      <td>3.0</td>\n",
       "      <td>2</td>\n",
       "      <td>0</td>\n",
       "      <td>73</td>\n",
       "      <td>0</td>\n",
       "    </tr>\n",
       "  </tbody>\n",
       "</table>\n",
       "</div>"
      ],
      "text/plain": [
       "   employee_id         department     region         education gender  \\\n",
       "0        65438  Sales & Marketing   region_7  Master's & above      f   \n",
       "1        65141         Operations  region_22        Bachelor's      m   \n",
       "2         7513  Sales & Marketing  region_19        Bachelor's      m   \n",
       "3         2542  Sales & Marketing  region_23        Bachelor's      m   \n",
       "4        48945         Technology  region_26        Bachelor's      m   \n",
       "\n",
       "  recruitment_channel  no_of_trainings  age  previous_year_rating  \\\n",
       "0            sourcing                1   35                   5.0   \n",
       "1               other                1   30                   5.0   \n",
       "2            sourcing                1   34                   3.0   \n",
       "3               other                2   39                   1.0   \n",
       "4               other                1   45                   3.0   \n",
       "\n",
       "   length_of_service  awards_won?  avg_training_score  is_promoted  \n",
       "0                  8            0                  49            0  \n",
       "1                  4            0                  60            0  \n",
       "2                  7            0                  50            0  \n",
       "3                 10            0                  50            0  \n",
       "4                  2            0                  73            0  "
      ]
     },
     "execution_count": 2,
     "metadata": {},
     "output_type": "execute_result"
    }
   ],
   "source": [
    "#load data\n",
    "train = pd.read_csv('hr-analytics-case-study/employee_promo_train.csv')\n",
    "test = pd.read_csv('hr-analytics-case-study/employee_promo_test.csv')\n",
    "train.head()"
   ]
  },
  {
   "cell_type": "code",
   "execution_count": 5,
   "id": "e4bd6859",
   "metadata": {
    "execution": {
     "iopub.execute_input": "2021-07-21T20:36:51.525924Z",
     "iopub.status.busy": "2021-07-21T20:36:51.525155Z",
     "iopub.status.idle": "2021-07-21T20:36:51.529150Z",
     "shell.execute_reply": "2021-07-21T20:36:51.529616Z",
     "shell.execute_reply.started": "2021-07-21T20:22:52.961491Z"
    },
    "papermill": {
     "duration": 0.056984,
     "end_time": "2021-07-21T20:36:51.529801",
     "exception": false,
     "start_time": "2021-07-21T20:36:51.472817",
     "status": "completed"
    },
    "tags": []
   },
   "outputs": [
    {
     "name": "stdout",
     "output_type": "stream",
     "text": [
      "Shape of Train Dataset:  (54808, 13)\n",
      "Shape of Test Dataset:  (23490, 12)\n"
     ]
    }
   ],
   "source": [
    "print(\"Shape of Train Dataset: \",train.shape)\n",
    "print(\"Shape of Test Dataset: \",test.shape)"
   ]
  },
  {
   "cell_type": "markdown",
   "id": "44e5b499",
   "metadata": {
    "papermill": {
     "duration": 0.047133,
     "end_time": "2021-07-21T20:36:51.625068",
     "exception": false,
     "start_time": "2021-07-21T20:36:51.577935",
     "status": "completed"
    },
    "tags": []
   },
   "source": [
    "# EDA"
   ]
  },
  {
   "cell_type": "code",
   "execution_count": 6,
   "id": "ebbc0080",
   "metadata": {
    "execution": {
     "iopub.execute_input": "2021-07-21T20:36:51.753805Z",
     "iopub.status.busy": "2021-07-21T20:36:51.726367Z",
     "iopub.status.idle": "2021-07-21T20:36:51.776234Z",
     "shell.execute_reply": "2021-07-21T20:36:51.775300Z",
     "shell.execute_reply.started": "2021-07-21T20:22:52.969439Z"
    },
    "papermill": {
     "duration": 0.102937,
     "end_time": "2021-07-21T20:36:51.776395",
     "exception": false,
     "start_time": "2021-07-21T20:36:51.673458",
     "status": "completed"
    },
    "tags": []
   },
   "outputs": [
    {
     "name": "stdout",
     "output_type": "stream",
     "text": [
      "<class 'pandas.core.frame.DataFrame'>\n",
      "RangeIndex: 54808 entries, 0 to 54807\n",
      "Data columns (total 13 columns):\n",
      " #   Column                Non-Null Count  Dtype  \n",
      "---  ------                --------------  -----  \n",
      " 0   employee_id           54808 non-null  int64  \n",
      " 1   department            54808 non-null  object \n",
      " 2   region                54808 non-null  object \n",
      " 3   education             52399 non-null  object \n",
      " 4   gender                54808 non-null  object \n",
      " 5   recruitment_channel   54808 non-null  object \n",
      " 6   no_of_trainings       54808 non-null  int64  \n",
      " 7   age                   54808 non-null  int64  \n",
      " 8   previous_year_rating  50684 non-null  float64\n",
      " 9   length_of_service     54808 non-null  int64  \n",
      " 10  awards_won?           54808 non-null  int64  \n",
      " 11  avg_training_score    54808 non-null  int64  \n",
      " 12  is_promoted           54808 non-null  int64  \n",
      "dtypes: float64(1), int64(7), object(5)\n",
      "memory usage: 5.4+ MB\n"
     ]
    }
   ],
   "source": [
    "#EDA\n",
    "train.info()"
   ]
  },
  {
   "cell_type": "markdown",
   "id": "a5479665",
   "metadata": {
    "papermill": {
     "duration": 0.046973,
     "end_time": "2021-07-21T20:36:51.871408",
     "exception": false,
     "start_time": "2021-07-21T20:36:51.824435",
     "status": "completed"
    },
    "tags": []
   },
   "source": [
    "## Numerical Features"
   ]
  },
  {
   "cell_type": "code",
   "execution_count": 7,
   "id": "9f689eef",
   "metadata": {
    "execution": {
     "iopub.execute_input": "2021-07-21T20:36:51.973468Z",
     "iopub.status.busy": "2021-07-21T20:36:51.972768Z",
     "iopub.status.idle": "2021-07-21T20:36:53.715941Z",
     "shell.execute_reply": "2021-07-21T20:36:53.715385Z",
     "shell.execute_reply.started": "2021-07-21T20:22:53.024784Z"
    },
    "papermill": {
     "duration": 1.79723,
     "end_time": "2021-07-21T20:36:53.716084",
     "exception": false,
     "start_time": "2021-07-21T20:36:51.918854",
     "status": "completed"
    },
    "tags": []
   },
   "outputs": [
    {
     "data": {
      "text/plain": [
       "Text(0.5, 0.98, 'Numerical Variables')"
      ]
     },
     "execution_count": 7,
     "metadata": {},
     "output_type": "execute_result"
    },
    {
     "data": {
      "image/png": "[encoded data removed]",
      "text/plain": [
       "<Figure size 864x864 with 9 Axes>"
      ]
     },
     "metadata": {
      "needs_background": "light"
     },
     "output_type": "display_data"
    }
   ],
   "source": [
    "#numerical variables including target\n",
    "\n",
    "ax = train.hist(bins=25, grid=False, figsize=(12,12),color='#006494',zorder=2, rwidth=0.9)\n",
    "plt.suptitle(\"Numerical Variables\")"
   ]
  },
  {
   "cell_type": "markdown",
   "id": "02752f18",
   "metadata": {
    "papermill": {
     "duration": 0.049522,
     "end_time": "2021-07-21T20:36:53.815127",
     "exception": false,
     "start_time": "2021-07-21T20:36:53.765605",
     "status": "completed"
    },
    "tags": []
   },
   "source": [
    "## Categorical Features"
   ]
  },
  {
   "cell_type": "code",
   "execution_count": 8,
   "id": "20fa73ae",
   "metadata": {
    "execution": {
     "iopub.execute_input": "2021-07-21T20:36:53.970801Z",
     "iopub.status.busy": "2021-07-21T20:36:53.956616Z",
     "iopub.status.idle": "2021-07-21T20:36:54.280603Z",
     "shell.execute_reply": "2021-07-21T20:36:54.279966Z",
     "shell.execute_reply.started": "2021-07-21T20:22:54.982466Z"
    },
    "papermill": {
     "duration": 0.415988,
     "end_time": "2021-07-21T20:36:54.280772",
     "exception": false,
     "start_time": "2021-07-21T20:36:53.864784",
     "status": "completed"
    },
    "tags": []
   },
   "outputs": [
    {
     "data": {
      "image/png": "[encoded data removed]",
      "text/plain": [
       "<Figure size 1080x288 with 1 Axes>"
      ]
     },
     "metadata": {
      "needs_background": "light"
     },
     "output_type": "display_data"
    }
   ],
   "source": [
    "# categorical features - department\n",
    "plt.figure(figsize=(15,4))\n",
    "ax = sns.countplot(x=\"department\",data=train, palette=\"viridis\",hue=\"is_promoted\", order = train['department'].value_counts().index)\n",
    "ax.grid(False)\n",
    "plt.suptitle(\"Department\")\n",
    "plt.show()"
   ]
  },
  {
   "cell_type": "code",
   "execution_count": 9,
   "id": "c48fb50c",
   "metadata": {
    "execution": {
     "iopub.execute_input": "2021-07-21T20:36:54.438981Z",
     "iopub.status.busy": "2021-07-21T20:36:54.411215Z",
     "iopub.status.idle": "2021-07-21T20:36:54.905178Z",
     "shell.execute_reply": "2021-07-21T20:36:54.904627Z",
     "shell.execute_reply.started": "2021-07-21T20:22:55.350067Z"
    },
    "papermill": {
     "duration": 0.573027,
     "end_time": "2021-07-21T20:36:54.905347",
     "exception": false,
     "start_time": "2021-07-21T20:36:54.332320",
     "status": "completed"
    },
    "tags": []
   },
   "outputs": [
    {
     "data": {
      "image/png": "[encoded data removed]",
      "text/plain": [
       "<Figure size 1080x1440 with 1 Axes>"
      ]
     },
     "metadata": {
      "needs_background": "light"
     },
     "output_type": "display_data"
    }
   ],
   "source": [
    "# categorical features - region\n",
    "plt.figure(figsize=(15,20))\n",
    "ax = sns.countplot(y=\"region\",data=train, \n",
    "                    palette=\"viridis\", order = train['region'].value_counts().index)\n",
    "ax.grid(False)\n",
    "sns.set(style=\"whitegrid\")\n",
    "plt.suptitle(\"Region\")\n",
    "plt.show()"
   ]
  },
  {
   "cell_type": "code",
   "execution_count": 10,
   "id": "e3b6a252",
   "metadata": {
    "execution": {
     "iopub.execute_input": "2021-07-21T20:36:55.072207Z",
     "iopub.status.busy": "2021-07-21T20:36:55.039813Z",
     "iopub.status.idle": "2021-07-21T20:36:55.284037Z",
     "shell.execute_reply": "2021-07-21T20:36:55.284550Z",
     "shell.execute_reply.started": "2021-07-21T20:22:55.884264Z"
    },
    "papermill": {
     "duration": 0.325996,
     "end_time": "2021-07-21T20:36:55.284762",
     "exception": false,
     "start_time": "2021-07-21T20:36:54.958766",
     "status": "completed"
    },
    "tags": []
   },
   "outputs": [
    {
     "data": {
      "image/png": "[encoded data removed]",
      "text/plain": [
       "<Figure size 432x288 with 1 Axes>"
      ]
     },
     "metadata": {},
     "output_type": "display_data"
    }
   ],
   "source": [
    "# categorical features - education\n",
    "plt.figure(figsize=(6,4))\n",
    "ax = sns.countplot(x=\"education\",data=train, palette=\"viridis\",hue=\"is_promoted\", order = train['education'].value_counts().index)\n",
    "ax.grid(False)\n",
    "plt.suptitle(\"Education\")\n",
    "plt.show()"
   ]
  },
  {
   "cell_type": "code",
   "execution_count": 11,
   "id": "8a07fe12",
   "metadata": {
    "execution": {
     "iopub.execute_input": "2021-07-21T20:36:55.446524Z",
     "iopub.status.busy": "2021-07-21T20:36:55.444642Z",
     "iopub.status.idle": "2021-07-21T20:36:55.620226Z",
     "shell.execute_reply": "2021-07-21T20:36:55.620737Z",
     "shell.execute_reply.started": "2021-07-21T20:22:56.142039Z"
    },
    "papermill": {
     "duration": 0.282534,
     "end_time": "2021-07-21T20:36:55.620955",
     "exception": false,
     "start_time": "2021-07-21T20:36:55.338421",
     "status": "completed"
    },
    "tags": []
   },
   "outputs": [
    {
     "data": {
      "image/png": "[encoded data removed]",
      "text/plain": [
       "<Figure size 432x288 with 1 Axes>"
      ]
     },
     "metadata": {},
     "output_type": "display_data"
    }
   ],
   "source": [
    "# categorical features - gender\n",
    "plt.figure(figsize=(6,4))\n",
    "ax = sns.countplot(x=\"gender\",data=train, palette=\"viridis\",hue=\"is_promoted\", order=train['gender'].value_counts().index)\n",
    "sns.set(style=\"whitegrid\")\n",
    "ax.grid(False)\n",
    "plt.suptitle(\"Gender\")\n",
    "plt.show()"
   ]
  },
  {
   "cell_type": "code",
   "execution_count": 12,
   "id": "a6aeb705",
   "metadata": {
    "execution": {
     "iopub.execute_input": "2021-07-21T20:36:55.773486Z",
     "iopub.status.busy": "2021-07-21T20:36:55.751685Z",
     "iopub.status.idle": "2021-07-21T20:36:55.976625Z",
     "shell.execute_reply": "2021-07-21T20:36:55.975560Z",
     "shell.execute_reply.started": "2021-07-21T20:22:56.377368Z"
    },
    "papermill": {
     "duration": 0.299207,
     "end_time": "2021-07-21T20:36:55.976829",
     "exception": false,
     "start_time": "2021-07-21T20:36:55.677622",
     "status": "completed"
    },
    "tags": []
   },
   "outputs": [
    {
     "data": {
      "image/png": "[encoded data removed]",
      "text/plain": [
       "<Figure size 432x288 with 1 Axes>"
      ]
     },
     "metadata": {},
     "output_type": "display_data"
    }
   ],
   "source": [
    "# categorical features - recruitment_channel\n",
    "plt.figure(figsize=(6,4))\n",
    "ax = sns.countplot(x=\"recruitment_channel\",data=train, palette=\"viridis\",hue=\"is_promoted\", order=train['recruitment_channel'].value_counts().index)\n",
    "ax.grid(False)\n",
    "sns.set(style=\"whitegrid\")\n",
    "plt.suptitle(\"Recruitment Channel\")\n",
    "plt.show()"
   ]
  },
  {
   "cell_type": "markdown",
   "id": "dfdd585e",
   "metadata": {
    "papermill": {
     "duration": 0.05523,
     "end_time": "2021-07-21T20:36:56.088278",
     "exception": false,
     "start_time": "2021-07-21T20:36:56.033048",
     "status": "completed"
    },
    "tags": []
   },
   "source": [
    "## Target"
   ]
  },
  {
   "cell_type": "code",
   "execution_count": 13,
   "id": "33d61173",
   "metadata": {
    "execution": {
     "iopub.execute_input": "2021-07-21T20:36:56.206686Z",
     "iopub.status.busy": "2021-07-21T20:36:56.206004Z",
     "iopub.status.idle": "2021-07-21T20:36:56.214024Z",
     "shell.execute_reply": "2021-07-21T20:36:56.213494Z",
     "shell.execute_reply.started": "2021-07-21T20:22:56.627605Z"
    },
    "papermill": {
     "duration": 0.069268,
     "end_time": "2021-07-21T20:36:56.214183",
     "exception": false,
     "start_time": "2021-07-21T20:36:56.144915",
     "status": "completed"
    },
    "tags": []
   },
   "outputs": [
    {
     "data": {
      "text/plain": [
       "0    0.91483\n",
       "1    0.08517\n",
       "Name: is_promoted, dtype: float64"
      ]
     },
     "execution_count": 13,
     "metadata": {},
     "output_type": "execute_result"
    }
   ],
   "source": [
    "train.is_promoted.value_counts(normalize=True)"
   ]
  },
  {
   "cell_type": "code",
   "execution_count": 14,
   "id": "72a69df0",
   "metadata": {
    "execution": {
     "iopub.execute_input": "2021-07-21T20:36:56.328322Z",
     "iopub.status.busy": "2021-07-21T20:36:56.327636Z",
     "iopub.status.idle": "2021-07-21T20:36:56.335502Z",
     "shell.execute_reply": "2021-07-21T20:36:56.336106Z",
     "shell.execute_reply.started": "2021-07-21T20:22:56.639387Z"
    },
    "papermill": {
     "duration": 0.066877,
     "end_time": "2021-07-21T20:36:56.336282",
     "exception": false,
     "start_time": "2021-07-21T20:36:56.269405",
     "status": "completed"
    },
    "tags": []
   },
   "outputs": [
    {
     "data": {
      "text/plain": [
       "0    50140\n",
       "1     4668\n",
       "Name: is_promoted, dtype: int64"
      ]
     },
     "execution_count": 14,
     "metadata": {},
     "output_type": "execute_result"
    }
   ],
   "source": [
    "train.is_promoted.value_counts()"
   ]
  },
  {
   "cell_type": "markdown",
   "id": "a665b095",
   "metadata": {
    "papermill": {
     "duration": 0.055157,
     "end_time": "2021-07-21T20:36:56.446704",
     "exception": false,
     "start_time": "2021-07-21T20:36:56.391547",
     "status": "completed"
    },
    "tags": []
   },
   "source": [
    "# Preprocessing"
   ]
  },
  {
   "cell_type": "code",
   "execution_count": 15,
   "id": "2795accc",
   "metadata": {
    "execution": {
     "iopub.execute_input": "2021-07-21T20:36:56.560755Z",
     "iopub.status.busy": "2021-07-21T20:36:56.560020Z",
     "iopub.status.idle": "2021-07-21T20:36:56.583310Z",
     "shell.execute_reply": "2021-07-21T20:36:56.583859Z",
     "shell.execute_reply.started": "2021-07-21T20:22:56.652739Z"
    },
    "papermill": {
     "duration": 0.082117,
     "end_time": "2021-07-21T20:36:56.584029",
     "exception": false,
     "start_time": "2021-07-21T20:36:56.501912",
     "status": "completed"
    },
    "tags": []
   },
   "outputs": [
    {
     "data": {
      "text/plain": [
       "(78298, 13)"
      ]
     },
     "execution_count": 15,
     "metadata": {},
     "output_type": "execute_result"
    }
   ],
   "source": [
    "#merge train and test for preprocessing\n",
    "df = train\n",
    "df = df.append(test)\n",
    "df.shape"
   ]
  },
  {
   "cell_type": "markdown",
   "id": "430184cc",
   "metadata": {
    "papermill": {
     "duration": 0.0615,
     "end_time": "2021-07-21T20:36:56.703219",
     "exception": false,
     "start_time": "2021-07-21T20:36:56.641719",
     "status": "completed"
    },
    "tags": []
   },
   "source": [
    "## Missing Values"
   ]
  },
  {
   "cell_type": "code",
   "execution_count": 16,
   "id": "e000d989",
   "metadata": {
    "execution": {
     "iopub.execute_input": "2021-07-21T20:36:56.818496Z",
     "iopub.status.busy": "2021-07-21T20:36:56.817881Z",
     "iopub.status.idle": "2021-07-21T20:36:56.834961Z",
     "shell.execute_reply": "2021-07-21T20:36:56.835635Z",
     "shell.execute_reply.started": "2021-07-21T20:22:56.678208Z"
    },
    "papermill": {
     "duration": 0.076495,
     "end_time": "2021-07-21T20:36:56.835887",
     "exception": false,
     "start_time": "2021-07-21T20:36:56.759392",
     "status": "completed"
    },
    "tags": []
   },
   "outputs": [
    {
     "name": "stdout",
     "output_type": "stream",
     "text": [
      "Education NA:  4.397302613093566\n",
      "Previous Year Rating NA:  7.581291987023935\n"
     ]
    }
   ],
   "source": [
    "#checking missing values\n",
    "print(\"Education NA: \",(df.education.isna().sum()/len(df))*100)\n",
    "print(\"Previous Year Rating NA: \",(df.previous_year_rating.isna().sum()/len(df))*100)"
   ]
  },
  {
   "cell_type": "code",
   "execution_count": 17,
   "id": "4a6cc8e6",
   "metadata": {
    "execution": {
     "iopub.execute_input": "2021-07-21T20:36:56.977587Z",
     "iopub.status.busy": "2021-07-21T20:36:56.973326Z",
     "iopub.status.idle": "2021-07-21T20:36:56.981012Z",
     "shell.execute_reply": "2021-07-21T20:36:56.981466Z",
     "shell.execute_reply.started": "2021-07-21T20:22:56.697226Z"
    },
    "papermill": {
     "duration": 0.087386,
     "end_time": "2021-07-21T20:36:56.981642",
     "exception": false,
     "start_time": "2021-07-21T20:36:56.894256",
     "status": "completed"
    },
    "tags": []
   },
   "outputs": [
    {
     "data": {
      "text/plain": [
       "Bachelor's          0.697976\n",
       "Master's & above    0.286273\n",
       "Below Secondary     0.015750\n",
       "Name: education, dtype: float64"
      ]
     },
     "execution_count": 17,
     "metadata": {},
     "output_type": "execute_result"
    }
   ],
   "source": [
    "df.education.value_counts(normalize=True)"
   ]
  },
  {
   "cell_type": "code",
   "execution_count": 18,
   "id": "2c4d7955",
   "metadata": {
    "execution": {
     "iopub.execute_input": "2021-07-21T20:36:57.100991Z",
     "iopub.status.busy": "2021-07-21T20:36:57.100034Z",
     "iopub.status.idle": "2021-07-21T20:36:57.137574Z",
     "shell.execute_reply": "2021-07-21T20:36:57.137010Z",
     "shell.execute_reply.started": "2021-07-21T20:22:56.735537Z"
    },
    "papermill": {
     "duration": 0.099156,
     "end_time": "2021-07-21T20:36:57.137746",
     "exception": false,
     "start_time": "2021-07-21T20:36:57.038590",
     "status": "completed"
    },
    "tags": []
   },
   "outputs": [
    {
     "data": {
      "text/plain": [
       "Bachelor's          0.667284\n",
       "Master's & above    0.273685\n",
       "Missing             0.043973\n",
       "Below Secondary     0.015058\n",
       "Name: education, dtype: float64"
      ]
     },
     "execution_count": 18,
     "metadata": {},
     "output_type": "execute_result"
    }
   ],
   "source": [
    "#treating na as a new category called missing\n",
    "df['education'] = df['education'].fillna('Missing')\n",
    "df.education.value_counts(normalize=True,dropna=False)"
   ]
  },
  {
   "cell_type": "code",
   "execution_count": 19,
   "id": "a8a8d4c3",
   "metadata": {
    "execution": {
     "iopub.execute_input": "2021-07-21T20:36:57.257422Z",
     "iopub.status.busy": "2021-07-21T20:36:57.256790Z",
     "iopub.status.idle": "2021-07-21T20:36:57.265206Z",
     "shell.execute_reply": "2021-07-21T20:36:57.265734Z",
     "shell.execute_reply.started": "2021-07-21T20:22:56.784140Z"
    },
    "papermill": {
     "duration": 0.071113,
     "end_time": "2021-07-21T20:36:57.265932",
     "exception": false,
     "start_time": "2021-07-21T20:36:57.194819",
     "status": "completed"
    },
    "tags": []
   },
   "outputs": [
    {
     "data": {
      "text/plain": [
       "3.0    0.366753\n",
       "5.0    0.232691\n",
       "4.0    0.195213\n",
       "1.0    0.123034\n",
       "2.0    0.082308\n",
       "Name: previous_year_rating, dtype: float64"
      ]
     },
     "execution_count": 19,
     "metadata": {},
     "output_type": "execute_result"
    }
   ],
   "source": [
    "df.previous_year_rating.value_counts(normalize=True)"
   ]
  },
  {
   "cell_type": "code",
   "execution_count": 20,
   "id": "5c99683d",
   "metadata": {
    "execution": {
     "iopub.execute_input": "2021-07-21T20:36:57.385912Z",
     "iopub.status.busy": "2021-07-21T20:36:57.384907Z",
     "iopub.status.idle": "2021-07-21T20:36:57.391876Z",
     "shell.execute_reply": "2021-07-21T20:36:57.392350Z",
     "shell.execute_reply.started": "2021-07-21T20:22:56.797773Z"
    },
    "papermill": {
     "duration": 0.068516,
     "end_time": "2021-07-21T20:36:57.392542",
     "exception": false,
     "start_time": "2021-07-21T20:36:57.324026",
     "status": "completed"
    },
    "tags": []
   },
   "outputs": [
    {
     "data": {
      "text/plain": [
       "3.0"
      ]
     },
     "execution_count": 20,
     "metadata": {},
     "output_type": "execute_result"
    }
   ],
   "source": [
    "df.previous_year_rating.median()"
   ]
  },
  {
   "cell_type": "code",
   "execution_count": 21,
   "id": "cca4b4a7",
   "metadata": {
    "execution": {
     "iopub.execute_input": "2021-07-21T20:36:57.511398Z",
     "iopub.status.busy": "2021-07-21T20:36:57.510815Z",
     "iopub.status.idle": "2021-07-21T20:36:57.522821Z",
     "shell.execute_reply": "2021-07-21T20:36:57.523394Z",
     "shell.execute_reply.started": "2021-07-21T20:22:56.811748Z"
    },
    "papermill": {
     "duration": 0.073119,
     "end_time": "2021-07-21T20:36:57.523560",
     "exception": false,
     "start_time": "2021-07-21T20:36:57.450441",
     "status": "completed"
    },
    "tags": []
   },
   "outputs": [
    {
     "data": {
      "text/plain": [
       "3.0    0.414762\n",
       "5.0    0.215050\n",
       "4.0    0.180413\n",
       "1.0    0.113707\n",
       "2.0    0.076068\n",
       "Name: previous_year_rating, dtype: float64"
      ]
     },
     "execution_count": 21,
     "metadata": {},
     "output_type": "execute_result"
    }
   ],
   "source": [
    "#replace missing value with median\n",
    "df['previous_year_rating'] = df['previous_year_rating'].fillna(3.0)\n",
    "df.previous_year_rating.value_counts(normalize=True,dropna=False)"
   ]
  },
  {
   "cell_type": "markdown",
   "id": "8e17b3c2",
   "metadata": {
    "papermill": {
     "duration": 0.057857,
     "end_time": "2021-07-21T20:36:57.638735",
     "exception": false,
     "start_time": "2021-07-21T20:36:57.580878",
     "status": "completed"
    },
    "tags": []
   },
   "source": [
    "## One Hot Encoder"
   ]
  },
  {
   "cell_type": "code",
   "execution_count": 22,
   "id": "f0cf087d",
   "metadata": {
    "execution": {
     "iopub.execute_input": "2021-07-21T20:36:57.758456Z",
     "iopub.status.busy": "2021-07-21T20:36:57.757844Z",
     "iopub.status.idle": "2021-07-21T20:36:58.161346Z",
     "shell.execute_reply": "2021-07-21T20:36:58.160724Z",
     "shell.execute_reply.started": "2021-07-21T20:22:56.825826Z"
    },
    "papermill": {
     "duration": 0.464163,
     "end_time": "2021-07-21T20:36:58.161484",
     "exception": false,
     "start_time": "2021-07-21T20:36:57.697321",
     "status": "completed"
    },
    "tags": []
   },
   "outputs": [
    {
     "name": "stderr",
     "output_type": "stream",
     "text": [
      "E:\\software\\Anaconda3\\envs\\ml\\lib\\site-packages\\sklearn\\utils\\deprecation.py:87: FutureWarning: Function get_feature_names is deprecated; get_feature_names is deprecated in 1.0 and will be removed in 1.2. Please use get_feature_names_out instead.\n",
      "  warnings.warn(msg, category=FutureWarning)\n"
     ]
    },
    {
     "data": {
      "text/html": [
       "<div>\n",
       "<style scoped>\n",
       "    .dataframe tbody tr th:only-of-type {\n",
       "        vertical-align: middle;\n",
       "    }\n",
       "\n",
       "    .dataframe tbody tr th {\n",
       "        vertical-align: top;\n",
       "    }\n",
       "\n",
       "    .dataframe thead th {\n",
       "        text-align: right;\n",
       "    }\n",
       "</style>\n",
       "<table border=\"1\" class=\"dataframe\">\n",
       "  <thead>\n",
       "    <tr style=\"text-align: right;\">\n",
       "      <th></th>\n",
       "      <th>department_Analytics</th>\n",
       "      <th>department_Finance</th>\n",
       "      <th>department_HR</th>\n",
       "      <th>department_Legal</th>\n",
       "      <th>department_Operations</th>\n",
       "      <th>department_Procurement</th>\n",
       "      <th>department_R&amp;D</th>\n",
       "      <th>department_Sales &amp; Marketing</th>\n",
       "      <th>department_Technology</th>\n",
       "      <th>region_region_1</th>\n",
       "      <th>...</th>\n",
       "      <th>region_region_9</th>\n",
       "      <th>education_Bachelor's</th>\n",
       "      <th>education_Below Secondary</th>\n",
       "      <th>education_Master's &amp; above</th>\n",
       "      <th>education_Missing</th>\n",
       "      <th>gender_f</th>\n",
       "      <th>gender_m</th>\n",
       "      <th>recruitment_channel_other</th>\n",
       "      <th>recruitment_channel_referred</th>\n",
       "      <th>recruitment_channel_sourcing</th>\n",
       "    </tr>\n",
       "  </thead>\n",
       "  <tbody>\n",
       "    <tr>\n",
       "      <th>0</th>\n",
       "      <td>0.0</td>\n",
       "      <td>0.0</td>\n",
       "      <td>0.0</td>\n",
       "      <td>0.0</td>\n",
       "      <td>0.0</td>\n",
       "      <td>0.0</td>\n",
       "      <td>0.0</td>\n",
       "      <td>1.0</td>\n",
       "      <td>0.0</td>\n",
       "      <td>0.0</td>\n",
       "      <td>...</td>\n",
       "      <td>0.0</td>\n",
       "      <td>0.0</td>\n",
       "      <td>0.0</td>\n",
       "      <td>1.0</td>\n",
       "      <td>0.0</td>\n",
       "      <td>1.0</td>\n",
       "      <td>0.0</td>\n",
       "      <td>0.0</td>\n",
       "      <td>0.0</td>\n",
       "      <td>1.0</td>\n",
       "    </tr>\n",
       "    <tr>\n",
       "      <th>1</th>\n",
       "      <td>0.0</td>\n",
       "      <td>0.0</td>\n",
       "      <td>0.0</td>\n",
       "      <td>0.0</td>\n",
       "      <td>1.0</td>\n",
       "      <td>0.0</td>\n",
       "      <td>0.0</td>\n",
       "      <td>0.0</td>\n",
       "      <td>0.0</td>\n",
       "      <td>0.0</td>\n",
       "      <td>...</td>\n",
       "      <td>0.0</td>\n",
       "      <td>1.0</td>\n",
       "      <td>0.0</td>\n",
       "      <td>0.0</td>\n",
       "      <td>0.0</td>\n",
       "      <td>0.0</td>\n",
       "      <td>1.0</td>\n",
       "      <td>1.0</td>\n",
       "      <td>0.0</td>\n",
       "      <td>0.0</td>\n",
       "    </tr>\n",
       "    <tr>\n",
       "      <th>2</th>\n",
       "      <td>0.0</td>\n",
       "      <td>0.0</td>\n",
       "      <td>0.0</td>\n",
       "      <td>0.0</td>\n",
       "      <td>0.0</td>\n",
       "      <td>0.0</td>\n",
       "      <td>0.0</td>\n",
       "      <td>1.0</td>\n",
       "      <td>0.0</td>\n",
       "      <td>0.0</td>\n",
       "      <td>...</td>\n",
       "      <td>0.0</td>\n",
       "      <td>1.0</td>\n",
       "      <td>0.0</td>\n",
       "      <td>0.0</td>\n",
       "      <td>0.0</td>\n",
       "      <td>0.0</td>\n",
       "      <td>1.0</td>\n",
       "      <td>0.0</td>\n",
       "      <td>0.0</td>\n",
       "      <td>1.0</td>\n",
       "    </tr>\n",
       "    <tr>\n",
       "      <th>3</th>\n",
       "      <td>0.0</td>\n",
       "      <td>0.0</td>\n",
       "      <td>0.0</td>\n",
       "      <td>0.0</td>\n",
       "      <td>0.0</td>\n",
       "      <td>0.0</td>\n",
       "      <td>0.0</td>\n",
       "      <td>1.0</td>\n",
       "      <td>0.0</td>\n",
       "      <td>0.0</td>\n",
       "      <td>...</td>\n",
       "      <td>0.0</td>\n",
       "      <td>1.0</td>\n",
       "      <td>0.0</td>\n",
       "      <td>0.0</td>\n",
       "      <td>0.0</td>\n",
       "      <td>0.0</td>\n",
       "      <td>1.0</td>\n",
       "      <td>1.0</td>\n",
       "      <td>0.0</td>\n",
       "      <td>0.0</td>\n",
       "    </tr>\n",
       "    <tr>\n",
       "      <th>4</th>\n",
       "      <td>0.0</td>\n",
       "      <td>0.0</td>\n",
       "      <td>0.0</td>\n",
       "      <td>0.0</td>\n",
       "      <td>0.0</td>\n",
       "      <td>0.0</td>\n",
       "      <td>0.0</td>\n",
       "      <td>0.0</td>\n",
       "      <td>1.0</td>\n",
       "      <td>0.0</td>\n",
       "      <td>...</td>\n",
       "      <td>0.0</td>\n",
       "      <td>1.0</td>\n",
       "      <td>0.0</td>\n",
       "      <td>0.0</td>\n",
       "      <td>0.0</td>\n",
       "      <td>0.0</td>\n",
       "      <td>1.0</td>\n",
       "      <td>1.0</td>\n",
       "      <td>0.0</td>\n",
       "      <td>0.0</td>\n",
       "    </tr>\n",
       "  </tbody>\n",
       "</table>\n",
       "<p>5 rows × 52 columns</p>\n",
       "</div>"
      ],
      "text/plain": [
       "   department_Analytics  department_Finance  department_HR  department_Legal  \\\n",
       "0                   0.0                 0.0            0.0               0.0   \n",
       "1                   0.0                 0.0            0.0               0.0   \n",
       "2                   0.0                 0.0            0.0               0.0   \n",
       "3                   0.0                 0.0            0.0               0.0   \n",
       "4                   0.0                 0.0            0.0               0.0   \n",
       "\n",
       "   department_Operations  department_Procurement  department_R&D  \\\n",
       "0                    0.0                     0.0             0.0   \n",
       "1                    1.0                     0.0             0.0   \n",
       "2                    0.0                     0.0             0.0   \n",
       "3                    0.0                     0.0             0.0   \n",
       "4                    0.0                     0.0             0.0   \n",
       "\n",
       "   department_Sales & Marketing  department_Technology  region_region_1  ...  \\\n",
       "0                           1.0                    0.0              0.0  ...   \n",
       "1                           0.0                    0.0              0.0  ...   \n",
       "2                           1.0                    0.0              0.0  ...   \n",
       "3                           1.0                    0.0              0.0  ...   \n",
       "4                           0.0                    1.0              0.0  ...   \n",
       "\n",
       "   region_region_9  education_Bachelor's  education_Below Secondary  \\\n",
       "0              0.0                   0.0                        0.0   \n",
       "1              0.0                   1.0                        0.0   \n",
       "2              0.0                   1.0                        0.0   \n",
       "3              0.0                   1.0                        0.0   \n",
       "4              0.0                   1.0                        0.0   \n",
       "\n",
       "   education_Master's & above  education_Missing  gender_f  gender_m  \\\n",
       "0                         1.0                0.0       1.0       0.0   \n",
       "1                         0.0                0.0       0.0       1.0   \n",
       "2                         0.0                0.0       0.0       1.0   \n",
       "3                         0.0                0.0       0.0       1.0   \n",
       "4                         0.0                0.0       0.0       1.0   \n",
       "\n",
       "   recruitment_channel_other  recruitment_channel_referred  \\\n",
       "0                        0.0                           0.0   \n",
       "1                        1.0                           0.0   \n",
       "2                        0.0                           0.0   \n",
       "3                        1.0                           0.0   \n",
       "4                        1.0                           0.0   \n",
       "\n",
       "   recruitment_channel_sourcing  \n",
       "0                           1.0  \n",
       "1                           0.0  \n",
       "2                           1.0  \n",
       "3                           0.0  \n",
       "4                           0.0  \n",
       "\n",
       "[5 rows x 52 columns]"
      ]
     },
     "execution_count": 22,
     "metadata": {},
     "output_type": "execute_result"
    }
   ],
   "source": [
    "#onehotencoder -> cat features\n",
    "from sklearn.preprocessing import OneHotEncoder\n",
    "ohe = OneHotEncoder(categories='auto')\n",
    "ohe_arr = ohe.fit_transform(df[['department','region','education','gender','recruitment_channel']]).toarray()\n",
    "ohe_labels = ohe.get_feature_names(['department','region','education','gender','recruitment_channel'])\n",
    "ohe_df = pd.DataFrame(ohe_arr, columns= ohe_labels)\n",
    "ohe_df.head()"
   ]
  },
  {
   "cell_type": "code",
   "execution_count": 23,
   "id": "aa87479f",
   "metadata": {
    "execution": {
     "iopub.execute_input": "2021-07-21T20:36:58.290355Z",
     "iopub.status.busy": "2021-07-21T20:36:58.289326Z",
     "iopub.status.idle": "2021-07-21T20:36:58.291611Z",
     "shell.execute_reply": "2021-07-21T20:36:58.292130Z",
     "shell.execute_reply.started": "2021-07-21T20:22:57.063797Z"
    },
    "papermill": {
     "duration": 0.070885,
     "end_time": "2021-07-21T20:36:58.292326",
     "exception": false,
     "start_time": "2021-07-21T20:36:58.221441",
     "status": "completed"
    },
    "tags": []
   },
   "outputs": [],
   "source": [
    "#drop columns and concat both dataframes\n",
    "df.drop(columns= ['department','region','education','gender','recruitment_channel'], inplace=True)"
   ]
  },
  {
   "cell_type": "code",
   "execution_count": 24,
   "id": "a003deb8",
   "metadata": {
    "execution": {
     "iopub.execute_input": "2021-07-21T20:36:58.419083Z",
     "iopub.status.busy": "2021-07-21T20:36:58.418374Z",
     "iopub.status.idle": "2021-07-21T20:36:58.497811Z",
     "shell.execute_reply": "2021-07-21T20:36:58.498539Z",
     "shell.execute_reply.started": "2021-07-21T20:22:57.073322Z"
    },
    "papermill": {
     "duration": 0.146091,
     "end_time": "2021-07-21T20:36:58.498809",
     "exception": false,
     "start_time": "2021-07-21T20:36:58.352718",
     "status": "completed"
    },
    "tags": []
   },
   "outputs": [
    {
     "name": "stdout",
     "output_type": "stream",
     "text": [
      "<class 'pandas.core.frame.DataFrame'>\n",
      "RangeIndex: 78298 entries, 0 to 78297\n",
      "Data columns (total 61 columns):\n",
      " #   Column                        Non-Null Count  Dtype  \n",
      "---  ------                        --------------  -----  \n",
      " 0   index                         78298 non-null  int64  \n",
      " 1   employee_id                   78298 non-null  int64  \n",
      " 2   no_of_trainings               78298 non-null  int64  \n",
      " 3   age                           78298 non-null  int64  \n",
      " 4   previous_year_rating          78298 non-null  float64\n",
      " 5   length_of_service             78298 non-null  int64  \n",
      " 6   awards_won?                   78298 non-null  int64  \n",
      " 7   avg_training_score            78298 non-null  int64  \n",
      " 8   is_promoted                   54808 non-null  float64\n",
      " 9   department_Analytics          78298 non-null  float64\n",
      " 10  department_Finance            78298 non-null  float64\n",
      " 11  department_HR                 78298 non-null  float64\n",
      " 12  department_Legal              78298 non-null  float64\n",
      " 13  department_Operations         78298 non-null  float64\n",
      " 14  department_Procurement        78298 non-null  float64\n",
      " 15  department_R&D                78298 non-null  float64\n",
      " 16  department_Sales & Marketing  78298 non-null  float64\n",
      " 17  department_Technology         78298 non-null  float64\n",
      " 18  region_region_1               78298 non-null  float64\n",
      " 19  region_region_10              78298 non-null  float64\n",
      " 20  region_region_11              78298 non-null  float64\n",
      " 21  region_region_12              78298 non-null  float64\n",
      " 22  region_region_13              78298 non-null  float64\n",
      " 23  region_region_14              78298 non-null  float64\n",
      " 24  region_region_15              78298 non-null  float64\n",
      " 25  region_region_16              78298 non-null  float64\n",
      " 26  region_region_17              78298 non-null  float64\n",
      " 27  region_region_18              78298 non-null  float64\n",
      " 28  region_region_19              78298 non-null  float64\n",
      " 29  region_region_2               78298 non-null  float64\n",
      " 30  region_region_20              78298 non-null  float64\n",
      " 31  region_region_21              78298 non-null  float64\n",
      " 32  region_region_22              78298 non-null  float64\n",
      " 33  region_region_23              78298 non-null  float64\n",
      " 34  region_region_24              78298 non-null  float64\n",
      " 35  region_region_25              78298 non-null  float64\n",
      " 36  region_region_26              78298 non-null  float64\n",
      " 37  region_region_27              78298 non-null  float64\n",
      " 38  region_region_28              78298 non-null  float64\n",
      " 39  region_region_29              78298 non-null  float64\n",
      " 40  region_region_3               78298 non-null  float64\n",
      " 41  region_region_30              78298 non-null  float64\n",
      " 42  region_region_31              78298 non-null  float64\n",
      " 43  region_region_32              78298 non-null  float64\n",
      " 44  region_region_33              78298 non-null  float64\n",
      " 45  region_region_34              78298 non-null  float64\n",
      " 46  region_region_4               78298 non-null  float64\n",
      " 47  region_region_5               78298 non-null  float64\n",
      " 48  region_region_6               78298 non-null  float64\n",
      " 49  region_region_7               78298 non-null  float64\n",
      " 50  region_region_8               78298 non-null  float64\n",
      " 51  region_region_9               78298 non-null  float64\n",
      " 52  education_Bachelor's          78298 non-null  float64\n",
      " 53  education_Below Secondary     78298 non-null  float64\n",
      " 54  education_Master's & above    78298 non-null  float64\n",
      " 55  education_Missing             78298 non-null  float64\n",
      " 56  gender_f                      78298 non-null  float64\n",
      " 57  gender_m                      78298 non-null  float64\n",
      " 58  recruitment_channel_other     78298 non-null  float64\n",
      " 59  recruitment_channel_referred  78298 non-null  float64\n",
      " 60  recruitment_channel_sourcing  78298 non-null  float64\n",
      "dtypes: float64(54), int64(7)\n",
      "memory usage: 36.4 MB\n"
     ]
    }
   ],
   "source": [
    "df.reset_index(inplace=True)\n",
    "df = pd.concat([df,ohe_df],axis=1,join='inner')\n",
    "df.info() "
   ]
  },
  {
   "cell_type": "code",
   "execution_count": 25,
   "id": "2aec7a5e",
   "metadata": {
    "execution": {
     "iopub.execute_input": "2021-07-21T20:36:58.622606Z",
     "iopub.status.busy": "2021-07-21T20:36:58.621865Z",
     "iopub.status.idle": "2021-07-21T20:36:58.671273Z",
     "shell.execute_reply": "2021-07-21T20:36:58.670739Z",
     "shell.execute_reply.started": "2021-07-21T20:22:57.160990Z"
    },
    "papermill": {
     "duration": 0.113362,
     "end_time": "2021-07-21T20:36:58.671428",
     "exception": false,
     "start_time": "2021-07-21T20:36:58.558066",
     "status": "completed"
    },
    "tags": []
   },
   "outputs": [
    {
     "data": {
      "text/plain": [
       "(78298, 60)"
      ]
     },
     "execution_count": 25,
     "metadata": {},
     "output_type": "execute_result"
    }
   ],
   "source": [
    "df.drop(columns= ['index'], inplace=True)\n",
    "df.shape"
   ]
  },
  {
   "cell_type": "markdown",
   "id": "1da093cd",
   "metadata": {
    "papermill": {
     "duration": 0.059323,
     "end_time": "2021-07-21T20:36:58.791479",
     "exception": false,
     "start_time": "2021-07-21T20:36:58.732156",
     "status": "completed"
    },
    "tags": []
   },
   "source": [
    "## Normalization"
   ]
  },
  {
   "cell_type": "code",
   "execution_count": 26,
   "id": "24f34b51",
   "metadata": {
    "execution": {
     "iopub.execute_input": "2021-07-21T20:36:58.915137Z",
     "iopub.status.busy": "2021-07-21T20:36:58.914493Z",
     "iopub.status.idle": "2021-07-21T20:36:59.101145Z",
     "shell.execute_reply": "2021-07-21T20:36:59.101638Z",
     "shell.execute_reply.started": "2021-07-21T20:22:57.203281Z"
    },
    "papermill": {
     "duration": 0.249976,
     "end_time": "2021-07-21T20:36:59.101848",
     "exception": false,
     "start_time": "2021-07-21T20:36:58.851872",
     "status": "completed"
    },
    "tags": []
   },
   "outputs": [
    {
     "data": {
      "text/html": [
       "<div>\n",
       "<style scoped>\n",
       "    .dataframe tbody tr th:only-of-type {\n",
       "        vertical-align: middle;\n",
       "    }\n",
       "\n",
       "    .dataframe tbody tr th {\n",
       "        vertical-align: top;\n",
       "    }\n",
       "\n",
       "    .dataframe thead th {\n",
       "        text-align: right;\n",
       "    }\n",
       "</style>\n",
       "<table border=\"1\" class=\"dataframe\">\n",
       "  <thead>\n",
       "    <tr style=\"text-align: right;\">\n",
       "      <th></th>\n",
       "      <th>employee_id</th>\n",
       "      <th>no_of_trainings</th>\n",
       "      <th>age</th>\n",
       "      <th>previous_year_rating</th>\n",
       "      <th>length_of_service</th>\n",
       "      <th>awards_won?</th>\n",
       "      <th>avg_training_score</th>\n",
       "      <th>is_promoted</th>\n",
       "      <th>department_Analytics</th>\n",
       "      <th>department_Finance</th>\n",
       "      <th>...</th>\n",
       "      <th>region_region_9</th>\n",
       "      <th>education_Bachelor's</th>\n",
       "      <th>education_Below Secondary</th>\n",
       "      <th>education_Master's &amp; above</th>\n",
       "      <th>education_Missing</th>\n",
       "      <th>gender_f</th>\n",
       "      <th>gender_m</th>\n",
       "      <th>recruitment_channel_other</th>\n",
       "      <th>recruitment_channel_referred</th>\n",
       "      <th>recruitment_channel_sourcing</th>\n",
       "    </tr>\n",
       "  </thead>\n",
       "  <tbody>\n",
       "    <tr>\n",
       "      <th>0</th>\n",
       "      <td>65438</td>\n",
       "      <td>0.000000</td>\n",
       "      <td>0.375</td>\n",
       "      <td>1.0</td>\n",
       "      <td>0.194444</td>\n",
       "      <td>0.0</td>\n",
       "      <td>0.166667</td>\n",
       "      <td>0.0</td>\n",
       "      <td>0.0</td>\n",
       "      <td>0.0</td>\n",
       "      <td>...</td>\n",
       "      <td>0.0</td>\n",
       "      <td>0.0</td>\n",
       "      <td>0.0</td>\n",
       "      <td>1.0</td>\n",
       "      <td>0.0</td>\n",
       "      <td>1.0</td>\n",
       "      <td>0.0</td>\n",
       "      <td>0.0</td>\n",
       "      <td>0.0</td>\n",
       "      <td>1.0</td>\n",
       "    </tr>\n",
       "    <tr>\n",
       "      <th>1</th>\n",
       "      <td>65141</td>\n",
       "      <td>0.000000</td>\n",
       "      <td>0.250</td>\n",
       "      <td>1.0</td>\n",
       "      <td>0.083333</td>\n",
       "      <td>0.0</td>\n",
       "      <td>0.350000</td>\n",
       "      <td>0.0</td>\n",
       "      <td>0.0</td>\n",
       "      <td>0.0</td>\n",
       "      <td>...</td>\n",
       "      <td>0.0</td>\n",
       "      <td>1.0</td>\n",
       "      <td>0.0</td>\n",
       "      <td>0.0</td>\n",
       "      <td>0.0</td>\n",
       "      <td>0.0</td>\n",
       "      <td>1.0</td>\n",
       "      <td>1.0</td>\n",
       "      <td>0.0</td>\n",
       "      <td>0.0</td>\n",
       "    </tr>\n",
       "    <tr>\n",
       "      <th>2</th>\n",
       "      <td>7513</td>\n",
       "      <td>0.000000</td>\n",
       "      <td>0.350</td>\n",
       "      <td>0.5</td>\n",
       "      <td>0.166667</td>\n",
       "      <td>0.0</td>\n",
       "      <td>0.183333</td>\n",
       "      <td>0.0</td>\n",
       "      <td>0.0</td>\n",
       "      <td>0.0</td>\n",
       "      <td>...</td>\n",
       "      <td>0.0</td>\n",
       "      <td>1.0</td>\n",
       "      <td>0.0</td>\n",
       "      <td>0.0</td>\n",
       "      <td>0.0</td>\n",
       "      <td>0.0</td>\n",
       "      <td>1.0</td>\n",
       "      <td>0.0</td>\n",
       "      <td>0.0</td>\n",
       "      <td>1.0</td>\n",
       "    </tr>\n",
       "    <tr>\n",
       "      <th>3</th>\n",
       "      <td>2542</td>\n",
       "      <td>0.111111</td>\n",
       "      <td>0.475</td>\n",
       "      <td>0.0</td>\n",
       "      <td>0.250000</td>\n",
       "      <td>0.0</td>\n",
       "      <td>0.183333</td>\n",
       "      <td>0.0</td>\n",
       "      <td>0.0</td>\n",
       "      <td>0.0</td>\n",
       "      <td>...</td>\n",
       "      <td>0.0</td>\n",
       "      <td>1.0</td>\n",
       "      <td>0.0</td>\n",
       "      <td>0.0</td>\n",
       "      <td>0.0</td>\n",
       "      <td>0.0</td>\n",
       "      <td>1.0</td>\n",
       "      <td>1.0</td>\n",
       "      <td>0.0</td>\n",
       "      <td>0.0</td>\n",
       "    </tr>\n",
       "    <tr>\n",
       "      <th>4</th>\n",
       "      <td>48945</td>\n",
       "      <td>0.000000</td>\n",
       "      <td>0.625</td>\n",
       "      <td>0.5</td>\n",
       "      <td>0.027778</td>\n",
       "      <td>0.0</td>\n",
       "      <td>0.566667</td>\n",
       "      <td>0.0</td>\n",
       "      <td>0.0</td>\n",
       "      <td>0.0</td>\n",
       "      <td>...</td>\n",
       "      <td>0.0</td>\n",
       "      <td>1.0</td>\n",
       "      <td>0.0</td>\n",
       "      <td>0.0</td>\n",
       "      <td>0.0</td>\n",
       "      <td>0.0</td>\n",
       "      <td>1.0</td>\n",
       "      <td>1.0</td>\n",
       "      <td>0.0</td>\n",
       "      <td>0.0</td>\n",
       "    </tr>\n",
       "  </tbody>\n",
       "</table>\n",
       "<p>5 rows × 60 columns</p>\n",
       "</div>"
      ],
      "text/plain": [
       "   employee_id  no_of_trainings    age  previous_year_rating  \\\n",
       "0        65438         0.000000  0.375                   1.0   \n",
       "1        65141         0.000000  0.250                   1.0   \n",
       "2         7513         0.000000  0.350                   0.5   \n",
       "3         2542         0.111111  0.475                   0.0   \n",
       "4        48945         0.000000  0.625                   0.5   \n",
       "\n",
       "   length_of_service  awards_won?  avg_training_score  is_promoted  \\\n",
       "0           0.194444          0.0            0.166667          0.0   \n",
       "1           0.083333          0.0            0.350000          0.0   \n",
       "2           0.166667          0.0            0.183333          0.0   \n",
       "3           0.250000          0.0            0.183333          0.0   \n",
       "4           0.027778          0.0            0.566667          0.0   \n",
       "\n",
       "   department_Analytics  department_Finance  ...  region_region_9  \\\n",
       "0                   0.0                 0.0  ...              0.0   \n",
       "1                   0.0                 0.0  ...              0.0   \n",
       "2                   0.0                 0.0  ...              0.0   \n",
       "3                   0.0                 0.0  ...              0.0   \n",
       "4                   0.0                 0.0  ...              0.0   \n",
       "\n",
       "   education_Bachelor's  education_Below Secondary  \\\n",
       "0                   0.0                        0.0   \n",
       "1                   1.0                        0.0   \n",
       "2                   1.0                        0.0   \n",
       "3                   1.0                        0.0   \n",
       "4                   1.0                        0.0   \n",
       "\n",
       "   education_Master's & above  education_Missing  gender_f  gender_m  \\\n",
       "0                         1.0                0.0       1.0       0.0   \n",
       "1                         0.0                0.0       0.0       1.0   \n",
       "2                         0.0                0.0       0.0       1.0   \n",
       "3                         0.0                0.0       0.0       1.0   \n",
       "4                         0.0                0.0       0.0       1.0   \n",
       "\n",
       "   recruitment_channel_other  recruitment_channel_referred  \\\n",
       "0                        0.0                           0.0   \n",
       "1                        1.0                           0.0   \n",
       "2                        0.0                           0.0   \n",
       "3                        1.0                           0.0   \n",
       "4                        1.0                           0.0   \n",
       "\n",
       "   recruitment_channel_sourcing  \n",
       "0                           1.0  \n",
       "1                           0.0  \n",
       "2                           1.0  \n",
       "3                           0.0  \n",
       "4                           0.0  \n",
       "\n",
       "[5 rows x 60 columns]"
      ]
     },
     "execution_count": 26,
     "metadata": {},
     "output_type": "execute_result"
    }
   ],
   "source": [
    "from sklearn.preprocessing import MinMaxScaler\n",
    "scaler = MinMaxScaler()\n",
    "df[['no_of_trainings','age','previous_year_rating','length_of_service','awards_won?','avg_training_score']] = scaler.fit_transform(df[['no_of_trainings','age','previous_year_rating','length_of_service','awards_won?','avg_training_score']])\n",
    "df.head()"
   ]
  },
  {
   "cell_type": "markdown",
   "id": "557d3668",
   "metadata": {
    "papermill": {
     "duration": 0.059613,
     "end_time": "2021-07-21T20:36:59.221379",
     "exception": false,
     "start_time": "2021-07-21T20:36:59.161766",
     "status": "completed"
    },
    "tags": []
   },
   "source": [
    "## Seed"
   ]
  },
  {
   "cell_type": "code",
   "execution_count": 27,
   "id": "4d1a6975",
   "metadata": {
    "execution": {
     "iopub.execute_input": "2021-07-21T20:36:59.345132Z",
     "iopub.status.busy": "2021-07-21T20:36:59.344481Z",
     "iopub.status.idle": "2021-07-21T20:36:59.349083Z",
     "shell.execute_reply": "2021-07-21T20:36:59.349548Z",
     "shell.execute_reply.started": "2021-07-21T20:22:57.384889Z"
    },
    "papermill": {
     "duration": 0.068451,
     "end_time": "2021-07-21T20:36:59.349739",
     "exception": false,
     "start_time": "2021-07-21T20:36:59.281288",
     "status": "completed"
    },
    "tags": []
   },
   "outputs": [],
   "source": [
    "seed_value = 12321\n",
    "import os\n",
    "os.environ['PYTHONHASHSEED']=str(seed_value)\n",
    "import random\n",
    "random.seed(seed_value)\n",
    "np.random.seed(seed_value)"
   ]
  },
  {
   "cell_type": "markdown",
   "id": "5e52b830",
   "metadata": {
    "papermill": {
     "duration": 0.060081,
     "end_time": "2021-07-21T20:36:59.471118",
     "exception": false,
     "start_time": "2021-07-21T20:36:59.411037",
     "status": "completed"
    },
    "tags": []
   },
   "source": [
    "## Validation Data"
   ]
  },
  {
   "cell_type": "code",
   "execution_count": 28,
   "id": "9f08794d",
   "metadata": {
    "execution": {
     "iopub.execute_input": "2021-07-21T20:36:59.596895Z",
     "iopub.status.busy": "2021-07-21T20:36:59.596203Z",
     "iopub.status.idle": "2021-07-21T20:36:59.654459Z",
     "shell.execute_reply": "2021-07-21T20:36:59.655409Z",
     "shell.execute_reply.started": "2021-07-21T20:22:57.392798Z"
    },
    "papermill": {
     "duration": 0.124019,
     "end_time": "2021-07-21T20:36:59.655643",
     "exception": false,
     "start_time": "2021-07-21T20:36:59.531624",
     "status": "completed"
    },
    "tags": []
   },
   "outputs": [
    {
     "name": "stdout",
     "output_type": "stream",
     "text": [
      "Shape of Train Dataset:  (54808, 60)\n",
      "Shape of Test Dataset:  (23490, 60)\n"
     ]
    }
   ],
   "source": [
    "#separate train and test datasets\n",
    "train, test = df[~df['is_promoted'].isnull()], df[df['is_promoted'].isnull()]\n",
    "print(\"Shape of Train Dataset: \",train.shape)\n",
    "print(\"Shape of Test Dataset: \",test.shape)"
   ]
  },
  {
   "cell_type": "code",
   "execution_count": 29,
   "id": "a73abb74",
   "metadata": {
    "execution": {
     "iopub.execute_input": "2021-07-21T20:36:59.825252Z",
     "iopub.status.busy": "2021-07-21T20:36:59.824351Z",
     "iopub.status.idle": "2021-07-21T20:36:59.834978Z",
     "shell.execute_reply": "2021-07-21T20:36:59.835828Z",
     "shell.execute_reply.started": "2021-07-21T20:22:57.442182Z"
    },
    "papermill": {
     "duration": 0.101085,
     "end_time": "2021-07-21T20:36:59.836061",
     "exception": false,
     "start_time": "2021-07-21T20:36:59.734976",
     "status": "completed"
    },
    "tags": []
   },
   "outputs": [
    {
     "name": "stdout",
     "output_type": "stream",
     "text": [
      "Shape of Train Dataset:  (54808, 59)\n"
     ]
    },
    {
     "name": "stderr",
     "output_type": "stream",
     "text": [
      "E:\\software\\Anaconda3\\envs\\ml\\lib\\site-packages\\pandas\\core\\frame.py:4906: SettingWithCopyWarning: \n",
      "A value is trying to be set on a copy of a slice from a DataFrame\n",
      "\n",
      "See the caveats in the documentation: https://pandas.pydata.org/pandas-docs/stable/user_guide/indexing.html#returning-a-view-versus-a-copy\n",
      "  return super().drop(\n"
     ]
    }
   ],
   "source": [
    "train.drop(columns=['employee_id'],inplace=True)\n",
    "print(\"Shape of Train Dataset: \",train.shape)"
   ]
  },
  {
   "cell_type": "code",
   "execution_count": 30,
   "id": "06166aed",
   "metadata": {
    "execution": {
     "iopub.execute_input": "2021-07-21T20:36:59.971294Z",
     "iopub.status.busy": "2021-07-21T20:36:59.970543Z",
     "iopub.status.idle": "2021-07-21T20:37:00.079901Z",
     "shell.execute_reply": "2021-07-21T20:37:00.080441Z",
     "shell.execute_reply.started": "2021-07-21T20:22:57.460545Z"
    },
    "papermill": {
     "duration": 0.180078,
     "end_time": "2021-07-21T20:37:00.080640",
     "exception": false,
     "start_time": "2021-07-21T20:36:59.900562",
     "status": "completed"
    },
    "tags": []
   },
   "outputs": [
    {
     "name": "stdout",
     "output_type": "stream",
     "text": [
      "Shape of X Train Dataset:  (38365, 58)\n",
      "Shape of Y Train Dataset:  (38365,)\n",
      "Shape of X Valid Dataset:  (16443, 58)\n",
      "Shape of Y Valid Dataset:  (16443,)\n"
     ]
    }
   ],
   "source": [
    "# train valid split\n",
    "from sklearn.model_selection import train_test_split\n",
    "X_train, X_valid, y_train, y_valid = train_test_split(train.drop(columns=['is_promoted']),train['is_promoted'], test_size=0.3,random_state=seed_value)\n",
    "print(\"Shape of X Train Dataset: \",X_train.shape)\n",
    "print(\"Shape of Y Train Dataset: \", y_train.shape)\n",
    "print(\"Shape of X Valid Dataset: \",X_valid.shape)\n",
    "print(\"Shape of Y Valid Dataset: \",y_valid.shape)"
   ]
  },
  {
   "cell_type": "markdown",
   "id": "3dddaa45",
   "metadata": {
    "papermill": {
     "duration": 0.063047,
     "end_time": "2021-07-21T20:37:00.206976",
     "exception": false,
     "start_time": "2021-07-21T20:37:00.143929",
     "status": "completed"
    },
    "tags": []
   },
   "source": [
    "## Feature Selection"
   ]
  },
  {
   "cell_type": "code",
   "execution_count": 31,
   "id": "cabef058",
   "metadata": {
    "execution": {
     "iopub.execute_input": "2021-07-21T20:37:00.339233Z",
     "iopub.status.busy": "2021-07-21T20:37:00.338491Z",
     "iopub.status.idle": "2021-07-21T20:37:25.213133Z",
     "shell.execute_reply": "2021-07-21T20:37:25.213620Z",
     "shell.execute_reply.started": "2021-07-21T20:22:57.524050Z"
    },
    "papermill": {
     "duration": 24.943412,
     "end_time": "2021-07-21T20:37:25.213820",
     "exception": false,
     "start_time": "2021-07-21T20:37:00.270408",
     "status": "completed"
    },
    "tags": []
   },
   "outputs": [
    {
     "data": {
      "text/plain": [
       "avg_training_score              0.027484\n",
       "previous_year_rating            0.012679\n",
       "awards_won?                     0.009639\n",
       "length_of_service               0.004402\n",
       "education_Bachelor's            0.004049\n",
       "age                             0.002979\n",
       "gender_m                        0.002779\n",
       "recruitment_channel_sourcing    0.002546\n",
       "region_region_19                0.002184\n",
       "region_region_13                0.002184\n",
       "department_R&D                  0.001767\n",
       "education_Master's & above      0.001431\n",
       "recruitment_channel_other       0.001270\n",
       "region_region_4                 0.001265\n",
       "department_Technology           0.001216\n",
       "region_region_2                 0.001158\n",
       "region_region_29                0.000979\n",
       "region_region_22                0.000975\n",
       "region_region_17                0.000905\n",
       "region_region_9                 0.000882\n",
       "region_region_14                0.000879\n",
       "region_region_16                0.000866\n",
       "region_region_20                0.000796\n",
       "region_region_10                0.000757\n",
       "region_region_27                0.000641\n",
       "region_region_11                0.000639\n",
       "recruitment_channel_referred    0.000605\n",
       "region_region_25                0.000602\n",
       "region_region_7                 0.000589\n",
       "region_region_3                 0.000519\n",
       "region_region_28                0.000487\n",
       "region_region_33                0.000311\n",
       "region_region_15                0.000299\n",
       "region_region_24                0.000267\n",
       "department_Finance              0.000254\n",
       "department_Analytics            0.000155\n",
       "department_HR                   0.000000\n",
       "region_region_6                 0.000000\n",
       "education_Below Secondary       0.000000\n",
       "education_Missing               0.000000\n",
       "gender_f                        0.000000\n",
       "department_Legal                0.000000\n",
       "region_region_8                 0.000000\n",
       "region_region_12                0.000000\n",
       "region_region_30                0.000000\n",
       "region_region_5                 0.000000\n",
       "department_Operations           0.000000\n",
       "region_region_34                0.000000\n",
       "region_region_32                0.000000\n",
       "region_region_31                0.000000\n",
       "department_Procurement          0.000000\n",
       "region_region_26                0.000000\n",
       "region_region_23                0.000000\n",
       "department_Sales & Marketing    0.000000\n",
       "region_region_21                0.000000\n",
       "region_region_1                 0.000000\n",
       "region_region_18                0.000000\n",
       "no_of_trainings                 0.000000\n",
       "dtype: float64"
      ]
     },
     "execution_count": 31,
     "metadata": {},
     "output_type": "execute_result"
    }
   ],
   "source": [
    "#determine the mutual information\n",
    "from sklearn.feature_selection import mutual_info_classif\n",
    "mutual_info = mutual_info_classif(X_train,y_train)\n",
    "mutual_info = pd.Series(mutual_info)\n",
    "mutual_info.index = X_train.columns\n",
    "mutual_info.sort_values(ascending=False)"
   ]
  },
  {
   "cell_type": "code",
   "execution_count": 32,
   "id": "0845db88",
   "metadata": {
    "execution": {
     "iopub.execute_input": "2021-07-21T20:37:25.347223Z",
     "iopub.status.busy": "2021-07-21T20:37:25.346111Z",
     "iopub.status.idle": "2021-07-21T20:37:50.007519Z",
     "shell.execute_reply": "2021-07-21T20:37:50.006976Z",
     "shell.execute_reply.started": "2021-07-21T20:23:22.319336Z"
    },
    "papermill": {
     "duration": 24.731591,
     "end_time": "2021-07-21T20:37:50.007692",
     "exception": false,
     "start_time": "2021-07-21T20:37:25.276101",
     "status": "completed"
    },
    "tags": []
   },
   "outputs": [
    {
     "data": {
      "text/plain": [
       "Index(['no_of_trainings', 'age', 'previous_year_rating', 'awards_won?',\n",
       "       'avg_training_score', 'department_Analytics', 'department_HR',\n",
       "       'department_R&D', 'department_Sales & Marketing',\n",
       "       'department_Technology', 'region_region_11', 'region_region_12',\n",
       "       'region_region_13', 'region_region_16', 'region_region_18',\n",
       "       'region_region_2', 'region_region_20', 'region_region_21',\n",
       "       'region_region_23', 'region_region_24', 'region_region_25',\n",
       "       'region_region_26', 'region_region_28', 'region_region_32',\n",
       "       'region_region_34', 'region_region_4', 'region_region_5',\n",
       "       'region_region_6', 'region_region_7', 'region_region_8',\n",
       "       'region_region_9', 'education_Bachelor's', 'education_Below Secondary',\n",
       "       'education_Master's & above', 'education_Missing', 'gender_f',\n",
       "       'gender_m', 'recruitment_channel_other', 'recruitment_channel_referred',\n",
       "       'recruitment_channel_sourcing'],\n",
       "      dtype='object')"
      ]
     },
     "execution_count": 32,
     "metadata": {},
     "output_type": "execute_result"
    }
   ],
   "source": [
    "from sklearn.feature_selection import SelectKBest\n",
    "\n",
    "select_top40 = SelectKBest(mutual_info_classif,k=40)\n",
    "select_top40.fit(X_train,y_train)\n",
    "X_train.columns[select_top40.get_support()]"
   ]
  },
  {
   "cell_type": "code",
   "execution_count": 33,
   "id": "89332519",
   "metadata": {
    "execution": {
     "iopub.execute_input": "2021-07-21T20:37:50.137347Z",
     "iopub.status.busy": "2021-07-21T20:37:50.136396Z",
     "iopub.status.idle": "2021-07-21T20:37:50.172197Z",
     "shell.execute_reply": "2021-07-21T20:37:50.172638Z",
     "shell.execute_reply.started": "2021-07-21T20:23:47.154135Z"
    },
    "papermill": {
     "duration": 0.102187,
     "end_time": "2021-07-21T20:37:50.172834",
     "exception": false,
     "start_time": "2021-07-21T20:37:50.070647",
     "status": "completed"
    },
    "tags": []
   },
   "outputs": [
    {
     "data": {
      "text/html": [
       "<div>\n",
       "<style scoped>\n",
       "    .dataframe tbody tr th:only-of-type {\n",
       "        vertical-align: middle;\n",
       "    }\n",
       "\n",
       "    .dataframe tbody tr th {\n",
       "        vertical-align: top;\n",
       "    }\n",
       "\n",
       "    .dataframe thead th {\n",
       "        text-align: right;\n",
       "    }\n",
       "</style>\n",
       "<table border=\"1\" class=\"dataframe\">\n",
       "  <thead>\n",
       "    <tr style=\"text-align: right;\">\n",
       "      <th></th>\n",
       "      <th>no_of_trainings</th>\n",
       "      <th>age</th>\n",
       "      <th>previous_year_rating</th>\n",
       "      <th>awards_won?</th>\n",
       "      <th>avg_training_score</th>\n",
       "      <th>department_Analytics</th>\n",
       "      <th>department_HR</th>\n",
       "      <th>department_R&amp;D</th>\n",
       "      <th>department_Sales &amp; Marketing</th>\n",
       "      <th>department_Technology</th>\n",
       "      <th>...</th>\n",
       "      <th>region_region_9</th>\n",
       "      <th>education_Bachelor's</th>\n",
       "      <th>education_Below Secondary</th>\n",
       "      <th>education_Master's &amp; above</th>\n",
       "      <th>education_Missing</th>\n",
       "      <th>gender_f</th>\n",
       "      <th>gender_m</th>\n",
       "      <th>recruitment_channel_other</th>\n",
       "      <th>recruitment_channel_referred</th>\n",
       "      <th>recruitment_channel_sourcing</th>\n",
       "    </tr>\n",
       "  </thead>\n",
       "  <tbody>\n",
       "    <tr>\n",
       "      <th>26344</th>\n",
       "      <td>0.111111</td>\n",
       "      <td>0.325</td>\n",
       "      <td>1.00</td>\n",
       "      <td>0.0</td>\n",
       "      <td>0.366667</td>\n",
       "      <td>0.0</td>\n",
       "      <td>0.0</td>\n",
       "      <td>0.0</td>\n",
       "      <td>0.0</td>\n",
       "      <td>0.0</td>\n",
       "      <td>...</td>\n",
       "      <td>0.0</td>\n",
       "      <td>1.0</td>\n",
       "      <td>0.0</td>\n",
       "      <td>0.0</td>\n",
       "      <td>0.0</td>\n",
       "      <td>0.0</td>\n",
       "      <td>1.0</td>\n",
       "      <td>0.0</td>\n",
       "      <td>0.0</td>\n",
       "      <td>1.0</td>\n",
       "    </tr>\n",
       "    <tr>\n",
       "      <th>21538</th>\n",
       "      <td>0.000000</td>\n",
       "      <td>0.300</td>\n",
       "      <td>1.00</td>\n",
       "      <td>0.0</td>\n",
       "      <td>0.383333</td>\n",
       "      <td>0.0</td>\n",
       "      <td>0.0</td>\n",
       "      <td>0.0</td>\n",
       "      <td>0.0</td>\n",
       "      <td>0.0</td>\n",
       "      <td>...</td>\n",
       "      <td>0.0</td>\n",
       "      <td>1.0</td>\n",
       "      <td>0.0</td>\n",
       "      <td>0.0</td>\n",
       "      <td>0.0</td>\n",
       "      <td>0.0</td>\n",
       "      <td>1.0</td>\n",
       "      <td>1.0</td>\n",
       "      <td>0.0</td>\n",
       "      <td>0.0</td>\n",
       "    </tr>\n",
       "    <tr>\n",
       "      <th>15489</th>\n",
       "      <td>0.000000</td>\n",
       "      <td>0.825</td>\n",
       "      <td>0.25</td>\n",
       "      <td>0.0</td>\n",
       "      <td>0.200000</td>\n",
       "      <td>0.0</td>\n",
       "      <td>0.0</td>\n",
       "      <td>0.0</td>\n",
       "      <td>1.0</td>\n",
       "      <td>0.0</td>\n",
       "      <td>...</td>\n",
       "      <td>0.0</td>\n",
       "      <td>1.0</td>\n",
       "      <td>0.0</td>\n",
       "      <td>0.0</td>\n",
       "      <td>0.0</td>\n",
       "      <td>0.0</td>\n",
       "      <td>1.0</td>\n",
       "      <td>0.0</td>\n",
       "      <td>0.0</td>\n",
       "      <td>1.0</td>\n",
       "    </tr>\n",
       "    <tr>\n",
       "      <th>15565</th>\n",
       "      <td>0.000000</td>\n",
       "      <td>0.275</td>\n",
       "      <td>1.00</td>\n",
       "      <td>0.0</td>\n",
       "      <td>0.116667</td>\n",
       "      <td>0.0</td>\n",
       "      <td>0.0</td>\n",
       "      <td>0.0</td>\n",
       "      <td>1.0</td>\n",
       "      <td>0.0</td>\n",
       "      <td>...</td>\n",
       "      <td>0.0</td>\n",
       "      <td>1.0</td>\n",
       "      <td>0.0</td>\n",
       "      <td>0.0</td>\n",
       "      <td>0.0</td>\n",
       "      <td>0.0</td>\n",
       "      <td>1.0</td>\n",
       "      <td>1.0</td>\n",
       "      <td>0.0</td>\n",
       "      <td>0.0</td>\n",
       "    </tr>\n",
       "    <tr>\n",
       "      <th>48575</th>\n",
       "      <td>0.000000</td>\n",
       "      <td>0.525</td>\n",
       "      <td>0.50</td>\n",
       "      <td>0.0</td>\n",
       "      <td>0.816667</td>\n",
       "      <td>1.0</td>\n",
       "      <td>0.0</td>\n",
       "      <td>0.0</td>\n",
       "      <td>0.0</td>\n",
       "      <td>0.0</td>\n",
       "      <td>...</td>\n",
       "      <td>0.0</td>\n",
       "      <td>1.0</td>\n",
       "      <td>0.0</td>\n",
       "      <td>0.0</td>\n",
       "      <td>0.0</td>\n",
       "      <td>0.0</td>\n",
       "      <td>1.0</td>\n",
       "      <td>0.0</td>\n",
       "      <td>0.0</td>\n",
       "      <td>1.0</td>\n",
       "    </tr>\n",
       "  </tbody>\n",
       "</table>\n",
       "<p>5 rows × 40 columns</p>\n",
       "</div>"
      ],
      "text/plain": [
       "       no_of_trainings    age  previous_year_rating  awards_won?  \\\n",
       "26344         0.111111  0.325                  1.00          0.0   \n",
       "21538         0.000000  0.300                  1.00          0.0   \n",
       "15489         0.000000  0.825                  0.25          0.0   \n",
       "15565         0.000000  0.275                  1.00          0.0   \n",
       "48575         0.000000  0.525                  0.50          0.0   \n",
       "\n",
       "       avg_training_score  department_Analytics  department_HR  \\\n",
       "26344            0.366667                   0.0            0.0   \n",
       "21538            0.383333                   0.0            0.0   \n",
       "15489            0.200000                   0.0            0.0   \n",
       "15565            0.116667                   0.0            0.0   \n",
       "48575            0.816667                   1.0            0.0   \n",
       "\n",
       "       department_R&D  department_Sales & Marketing  department_Technology  \\\n",
       "26344             0.0                           0.0                    0.0   \n",
       "21538             0.0                           0.0                    0.0   \n",
       "15489             0.0                           1.0                    0.0   \n",
       "15565             0.0                           1.0                    0.0   \n",
       "48575             0.0                           0.0                    0.0   \n",
       "\n",
       "       ...  region_region_9  education_Bachelor's  education_Below Secondary  \\\n",
       "26344  ...              0.0                   1.0                        0.0   \n",
       "21538  ...              0.0                   1.0                        0.0   \n",
       "15489  ...              0.0                   1.0                        0.0   \n",
       "15565  ...              0.0                   1.0                        0.0   \n",
       "48575  ...              0.0                   1.0                        0.0   \n",
       "\n",
       "       education_Master's & above  education_Missing  gender_f  gender_m  \\\n",
       "26344                         0.0                0.0       0.0       1.0   \n",
       "21538                         0.0                0.0       0.0       1.0   \n",
       "15489                         0.0                0.0       0.0       1.0   \n",
       "15565                         0.0                0.0       0.0       1.0   \n",
       "48575                         0.0                0.0       0.0       1.0   \n",
       "\n",
       "       recruitment_channel_other  recruitment_channel_referred  \\\n",
       "26344                        0.0                           0.0   \n",
       "21538                        1.0                           0.0   \n",
       "15489                        0.0                           0.0   \n",
       "15565                        1.0                           0.0   \n",
       "48575                        0.0                           0.0   \n",
       "\n",
       "       recruitment_channel_sourcing  \n",
       "26344                           1.0  \n",
       "21538                           0.0  \n",
       "15489                           1.0  \n",
       "15565                           0.0  \n",
       "48575                           1.0  \n",
       "\n",
       "[5 rows x 40 columns]"
      ]
     },
     "execution_count": 33,
     "metadata": {},
     "output_type": "execute_result"
    }
   ],
   "source": [
    "feat_select = X_train.columns[select_top40.get_support()]\n",
    "X_train[feat_select].head(5)"
   ]
  },
  {
   "cell_type": "markdown",
   "id": "d23b0745",
   "metadata": {
    "papermill": {
     "duration": 0.061915,
     "end_time": "2021-07-21T20:37:50.297092",
     "exception": false,
     "start_time": "2021-07-21T20:37:50.235177",
     "status": "completed"
    },
    "tags": []
   },
   "source": [
    "## Classification Models"
   ]
  },
  {
   "cell_type": "code",
   "execution_count": 34,
   "id": "aaf6b768",
   "metadata": {
    "execution": {
     "iopub.execute_input": "2021-07-21T20:37:50.425620Z",
     "iopub.status.busy": "2021-07-21T20:37:50.424695Z",
     "iopub.status.idle": "2021-07-21T20:37:50.494155Z",
     "shell.execute_reply": "2021-07-21T20:37:50.493540Z",
     "shell.execute_reply.started": "2021-07-21T20:23:47.196119Z"
    },
    "papermill": {
     "duration": 0.134779,
     "end_time": "2021-07-21T20:37:50.494350",
     "exception": false,
     "start_time": "2021-07-21T20:37:50.359571",
     "status": "completed"
    },
    "tags": []
   },
   "outputs": [],
   "source": [
    "#import modules\n",
    "\n",
    "from sklearn.neighbors import KNeighborsClassifier\n",
    "from sklearn.svm import SVC\n",
    "from sklearn.tree import DecisionTreeClassifier\n",
    "from sklearn.ensemble import RandomForestClassifier, AdaBoostClassifier\n",
    "from sklearn.naive_bayes import GaussianNB"
   ]
  },
  {
   "cell_type": "code",
   "execution_count": 35,
   "id": "f610cb27",
   "metadata": {
    "execution": {
     "iopub.execute_input": "2021-07-21T20:37:50.627862Z",
     "iopub.status.busy": "2021-07-21T20:37:50.627132Z",
     "iopub.status.idle": "2021-07-21T20:37:50.630490Z",
     "shell.execute_reply": "2021-07-21T20:37:50.629958Z",
     "shell.execute_reply.started": "2021-07-21T20:23:47.202430Z"
    },
    "papermill": {
     "duration": 0.072747,
     "end_time": "2021-07-21T20:37:50.630647",
     "exception": false,
     "start_time": "2021-07-21T20:37:50.557900",
     "status": "completed"
    },
    "tags": []
   },
   "outputs": [],
   "source": [
    "#defining learning classifiers\n",
    "\n",
    "names = [\"Nearest_Neighbors\",\"RBF_SVM\", \"Decision_Tree\", \"Random_Forest\",\"AdaBoost\",\"Naive_Bayes\"]\n",
    "\n",
    "classifiers = [\n",
    "    KNeighborsClassifier(3),\n",
    "    SVC(kernel=\"rbf\", C=1, gamma=2),\n",
    "    DecisionTreeClassifier(max_depth=5),\n",
    "    RandomForestClassifier(max_depth=5, n_estimators=100),\n",
    "    AdaBoostClassifier(n_estimators=100),\n",
    "    GaussianNB()]"
   ]
  },
  {
   "cell_type": "code",
   "execution_count": 36,
   "id": "9bbab021",
   "metadata": {
    "execution": {
     "iopub.execute_input": "2021-07-21T20:37:50.768769Z",
     "iopub.status.busy": "2021-07-21T20:37:50.768019Z",
     "iopub.status.idle": "2021-07-21T20:45:09.838556Z",
     "shell.execute_reply": "2021-07-21T20:45:09.839106Z",
     "shell.execute_reply.started": "2021-07-21T20:23:47.220089Z"
    },
    "papermill": {
     "duration": 439.144287,
     "end_time": "2021-07-21T20:45:09.839320",
     "exception": false,
     "start_time": "2021-07-21T20:37:50.695033",
     "status": "completed"
    },
    "tags": []
   },
   "outputs": [
    {
     "data": {
      "text/html": [
       "<div>\n",
       "<style scoped>\n",
       "    .dataframe tbody tr th:only-of-type {\n",
       "        vertical-align: middle;\n",
       "    }\n",
       "\n",
       "    .dataframe tbody tr th {\n",
       "        vertical-align: top;\n",
       "    }\n",
       "\n",
       "    .dataframe thead th {\n",
       "        text-align: right;\n",
       "    }\n",
       "</style>\n",
       "<table border=\"1\" class=\"dataframe\">\n",
       "  <thead>\n",
       "    <tr style=\"text-align: right;\">\n",
       "      <th></th>\n",
       "      <th>name</th>\n",
       "      <th>score</th>\n",
       "    </tr>\n",
       "  </thead>\n",
       "  <tbody>\n",
       "    <tr>\n",
       "      <th>4</th>\n",
       "      <td>AdaBoost</td>\n",
       "      <td>0.932859</td>\n",
       "    </tr>\n",
       "    <tr>\n",
       "      <th>2</th>\n",
       "      <td>Decision_Tree</td>\n",
       "      <td>0.930974</td>\n",
       "    </tr>\n",
       "    <tr>\n",
       "      <th>3</th>\n",
       "      <td>Random_Forest</td>\n",
       "      <td>0.923615</td>\n",
       "    </tr>\n",
       "    <tr>\n",
       "      <th>1</th>\n",
       "      <td>RBF_SVM</td>\n",
       "      <td>0.920574</td>\n",
       "    </tr>\n",
       "    <tr>\n",
       "      <th>0</th>\n",
       "      <td>Nearest_Neighbors</td>\n",
       "      <td>0.914979</td>\n",
       "    </tr>\n",
       "    <tr>\n",
       "      <th>5</th>\n",
       "      <td>Naive_Bayes</td>\n",
       "      <td>0.484340</td>\n",
       "    </tr>\n",
       "  </tbody>\n",
       "</table>\n",
       "</div>"
      ],
      "text/plain": [
       "                name     score\n",
       "4           AdaBoost  0.932859\n",
       "2      Decision_Tree  0.930974\n",
       "3      Random_Forest  0.923615\n",
       "1            RBF_SVM  0.920574\n",
       "0  Nearest_Neighbors  0.914979\n",
       "5        Naive_Bayes  0.484340"
      ]
     },
     "execution_count": 36,
     "metadata": {},
     "output_type": "execute_result"
    }
   ],
   "source": [
    "# calculating models scores\n",
    "scores = []\n",
    "for name, clf in zip(names, classifiers):\n",
    "    clf.fit(X_train, y_train)\n",
    "    score = clf.score(X_valid, y_valid)\n",
    "    scores.append(score)\n",
    "\n",
    "models = pd.DataFrame()\n",
    "models['name'] = names\n",
    "models['score'] = scores\n",
    "models.sort_values(by='score',ascending=False)"
   ]
  },
  {
   "cell_type": "code",
   "execution_count": 41,
   "id": "6a26600d",
   "metadata": {
    "execution": {
     "iopub.execute_input": "2021-07-21T20:45:09.977257Z",
     "iopub.status.busy": "2021-07-21T20:45:09.976494Z",
     "iopub.status.idle": "2021-07-21T20:45:14.858434Z",
     "shell.execute_reply": "2021-07-21T20:45:14.857822Z",
     "shell.execute_reply.started": "2021-07-21T20:31:11.112775Z"
    },
    "papermill": {
     "duration": 4.954124,
     "end_time": "2021-07-21T20:45:14.858631",
     "exception": false,
     "start_time": "2021-07-21T20:45:09.904507",
     "status": "completed"
    },
    "tags": []
   },
   "outputs": [
    {
     "data": {
      "image/png": "[encoded data removed]",
      "text/plain": [
       "<Figure size 432x288 with 2 Axes>"
      ]
     },
     "metadata": {},
     "output_type": "display_data"
    }
   ],
   "source": [
    "from sklearn.metrics import classification_report,confusion_matrix,accuracy_score, precision_score,recall_score, f1_score\n",
    "\n",
    "adc = AdaBoostClassifier(n_estimators=100)\n",
    "adc.fit(X_train, y_train)\n",
    "preds_valid = adc.predict(X_valid)\n",
    "cf_matrix = confusion_matrix(y_valid, preds_valid)\n",
    "sns.heatmap(cf_matrix, annot=True)\n",
    "plt.title('Confusion Matrix')\n",
    "plt.xlabel('False label')\n",
    "plt.ylabel('True label')\n",
    "plt.show()"
   ]
  },
  {
   "cell_type": "code",
   "execution_count": 38,
   "id": "df550694",
   "metadata": {
    "execution": {
     "iopub.execute_input": "2021-07-21T20:45:15.059945Z",
     "iopub.status.busy": "2021-07-21T20:45:15.059211Z",
     "iopub.status.idle": "2021-07-21T20:45:15.093455Z",
     "shell.execute_reply": "2021-07-21T20:45:15.092821Z",
     "shell.execute_reply.started": "2021-07-21T20:31:15.773508Z"
    },
    "papermill": {
     "duration": 0.16763,
     "end_time": "2021-07-21T20:45:15.093610",
     "exception": false,
     "start_time": "2021-07-21T20:45:14.925980",
     "status": "completed"
    },
    "tags": []
   },
   "outputs": [
    {
     "name": "stdout",
     "output_type": "stream",
     "text": [
      "Accuracy:  0.9328589673417259\n",
      "Recall:  0.21742367833209233\n",
      "Precision:  0.8463768115942029\n",
      "F1 Score:  0.3459715639810427\n"
     ]
    }
   ],
   "source": [
    "print(\"Accuracy: \",accuracy_score(y_valid,preds_valid))\n",
    "print(\"Recall: \",recall_score(y_valid,preds_valid))\n",
    "print(\"Precision: \",precision_score(y_valid,preds_valid))\n",
    "print(\"F1 Score: \", f1_score(y_valid,preds_valid))"
   ]
  },
  {
   "cell_type": "code",
   "execution_count": 42,
   "id": "b25ab72d",
   "metadata": {
    "execution": {
     "iopub.execute_input": "2021-07-21T20:45:15.237994Z",
     "iopub.status.busy": "2021-07-21T20:45:15.237273Z",
     "iopub.status.idle": "2021-07-21T20:45:19.323770Z",
     "shell.execute_reply": "2021-07-21T20:45:19.323173Z",
     "shell.execute_reply.started": "2021-07-21T20:31:15.814269Z"
    },
    "papermill": {
     "duration": 4.165188,
     "end_time": "2021-07-21T20:45:19.323974",
     "exception": false,
     "start_time": "2021-07-21T20:45:15.158786",
     "status": "completed"
    },
    "tags": []
   },
   "outputs": [
    {
     "data": {
      "image/png": "[encoded data removed]",
      "text/plain": [
       "<Figure size 432x288 with 2 Axes>"
      ]
     },
     "metadata": {},
     "output_type": "display_data"
    }
   ],
   "source": [
    "# model only the top_40 features\n",
    "adc.fit(X_train[feat_select], y_train)\n",
    "preds_valid = adc.predict(X_valid[feat_select])\n",
    "cf_matrix = confusion_matrix(y_valid, preds_valid)\n",
    "sns.heatmap(cf_matrix, annot=True)\n",
    "plt.title('Confusion Matrix - Feature Selection')\n",
    "plt.show()"
   ]
  },
  {
   "cell_type": "code",
   "execution_count": 43,
   "id": "9b77674b",
   "metadata": {
    "execution": {
     "iopub.execute_input": "2021-07-21T20:45:19.466387Z",
     "iopub.status.busy": "2021-07-21T20:45:19.465354Z",
     "iopub.status.idle": "2021-07-21T20:45:19.500620Z",
     "shell.execute_reply": "2021-07-21T20:45:19.500070Z",
     "shell.execute_reply.started": "2021-07-21T20:31:19.865211Z"
    },
    "papermill": {
     "duration": 0.108989,
     "end_time": "2021-07-21T20:45:19.500783",
     "exception": false,
     "start_time": "2021-07-21T20:45:19.391794",
     "status": "completed"
    },
    "tags": []
   },
   "outputs": [
    {
     "name": "stdout",
     "output_type": "stream",
     "text": [
      "Accuracy:  0.9328589673417259\n",
      "Recall:  0.2137006701414743\n",
      "Precision:  0.8567164179104477\n",
      "F1 Score:  0.3420738974970202\n"
     ]
    }
   ],
   "source": [
    "print(\"Accuracy: \",accuracy_score(y_valid,preds_valid))\n",
    "print(\"Recall: \",recall_score(y_valid,preds_valid))\n",
    "print(\"Precision: \",precision_score(y_valid,preds_valid))\n",
    "print(\"F1 Score: \", f1_score(y_valid,preds_valid))"
   ]
  },
  {
   "cell_type": "code",
   "execution_count": 44,
   "id": "71b51535",
   "metadata": {
    "execution": {
     "iopub.execute_input": "2021-07-21T20:47:04.295818Z",
     "iopub.status.busy": "2021-07-21T20:47:04.294523Z",
     "iopub.status.idle": "2021-07-21T20:47:04.844435Z",
     "shell.execute_reply": "2021-07-21T20:47:04.843753Z",
     "shell.execute_reply.started": "2021-07-21T20:36:07.289173Z"
    },
    "papermill": {
     "duration": 0.634905,
     "end_time": "2021-07-21T20:47:04.844603",
     "exception": false,
     "start_time": "2021-07-21T20:47:04.209698",
     "status": "completed"
    },
    "pycharm": {
     "name": "#%%\n"
    },
    "tags": []
   },
   "outputs": [
    {
     "name": "stderr",
     "output_type": "stream",
     "text": [
      "C:\\Users\\Infinity\\AppData\\Local\\Temp/ipykernel_3168/1394947142.py:1: SettingWithCopyWarning: \n",
      "A value is trying to be set on a copy of a slice from a DataFrame.\n",
      "Try using .loc[row_indexer,col_indexer] = value instead\n",
      "\n",
      "See the caveats in the documentation: https://pandas.pydata.org/pandas-docs/stable/user_guide/indexing.html#returning-a-view-versus-a-copy\n",
      "  test['is_promoted'] = adc.predict(test[feat_select])\n"
     ]
    },
    {
     "data": {
      "text/plain": [
       "0.0    23033\n",
       "1.0      457\n",
       "Name: is_promoted, dtype: int64"
      ]
     },
     "execution_count": 44,
     "metadata": {},
     "output_type": "execute_result"
    }
   ],
   "source": [
    "test['is_promoted'] = adc.predict(test[feat_select])\n",
    "test.is_promoted.value_counts()"
   ]
  },
  {
   "cell_type": "markdown",
   "id": "19603646",
   "metadata": {},
   "source": [
    "Click [here](https://www.kaggle.com/raquelreis/adaboostclassifier) to see the original notebook."
   ]
  },
  {
   "cell_type": "code",
   "execution_count": null,
   "id": "ce8dc975",
   "metadata": {
    "pycharm": {
     "name": "#%%\n"
    }
   },
   "outputs": [],
   "source": []
  }
 ],
 "metadata": {
  "kernelspec": {
   "display_name": "Python 3 (ipykernel)",
   "language": "python",
   "name": "python3"
  },
  "language_info": {
   "codemirror_mode": {
    "name": "ipython",
    "version": 3
   },
   "file_extension": ".py",
   "mimetype": "text/x-python",
   "name": "python",
   "nbconvert_exporter": "python",
   "pygments_lexer": "ipython3",
   "version": "3.9.7"
  },
  "papermill": {
   "default_parameters": {},
   "duration": 626.378365,
   "end_time": "2021-07-21T20:47:06.972347",
   "environment_variables": {},
   "exception": null,
   "input_path": "__notebook__.ipynb",
   "output_path": "__notebook__.ipynb",
   "parameters": {},
   "start_time": "2021-07-21T20:36:40.593982",
   "version": "2.3.3"
  }
 },
 "nbformat": 4,
 "nbformat_minor": 5
}