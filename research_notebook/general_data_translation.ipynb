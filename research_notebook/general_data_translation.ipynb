{
 "cells": [
  {
   "cell_type": "markdown",
   "metadata": {
    "collapsed": true,
    "pycharm": {
     "name": "#%% md\n"
    }
   },
   "source": [
    "# Translate data to French"
   ]
  },
  {
   "cell_type": "markdown",
   "source": [
    "## General Data"
   ],
   "metadata": {
    "collapsed": false
   }
  },
  {
   "cell_type": "code",
   "execution_count": 1,
   "outputs": [],
   "source": [
    "import pandas as pd\n",
    "import seaborn as sns\n",
    "import matplotlib.pyplot as plt"
   ],
   "metadata": {
    "collapsed": false,
    "pycharm": {
     "name": "#%%\n"
    }
   }
  },
  {
   "cell_type": "code",
   "execution_count": 2,
   "outputs": [
    {
     "data": {
      "text/plain": "   Age Attrition     BusinessTravel              Department  DistanceFromHome  \\\n0   51        No      Travel_Rarely                   Sales                 6   \n1   31       Yes  Travel_Frequently  Research & Development                10   \n2   32        No  Travel_Frequently  Research & Development                17   \n3   38        No         Non-Travel  Research & Development                 2   \n4   32        No      Travel_Rarely  Research & Development                10   \n\n   Education EducationField  EmployeeCount  EmployeeID  Gender  ...  \\\n0          2  Life Sciences              1           1  Female  ...   \n1          1  Life Sciences              1           2  Female  ...   \n2          4          Other              1           3    Male  ...   \n3          5  Life Sciences              1           4    Male  ...   \n4          1        Medical              1           5    Male  ...   \n\n   NumCompaniesWorked Over18 PercentSalaryHike  StandardHours  \\\n0                 1.0      Y                11              8   \n1                 0.0      Y                23              8   \n2                 1.0      Y                15              8   \n3                 3.0      Y                11              8   \n4                 4.0      Y                12              8   \n\n   StockOptionLevel TotalWorkingYears  TrainingTimesLastYear  YearsAtCompany  \\\n0                 0               1.0                      6               1   \n1                 1               6.0                      3               5   \n2                 3               5.0                      2               5   \n3                 3              13.0                      5               8   \n4                 2               9.0                      2               6   \n\n   YearsSinceLastPromotion  YearsWithCurrManager  \n0                        0                     0  \n1                        1                     4  \n2                        0                     3  \n3                        7                     5  \n4                        0                     4  \n\n[5 rows x 24 columns]",
      "text/html": "<div>\n<style scoped>\n    .dataframe tbody tr th:only-of-type {\n        vertical-align: middle;\n    }\n\n    .dataframe tbody tr th {\n        vertical-align: top;\n    }\n\n    .dataframe thead th {\n        text-align: right;\n    }\n</style>\n<table border=\"1\" class=\"dataframe\">\n  <thead>\n    <tr style=\"text-align: right;\">\n      <th></th>\n      <th>Age</th>\n      <th>Attrition</th>\n      <th>BusinessTravel</th>\n      <th>Department</th>\n      <th>DistanceFromHome</th>\n      <th>Education</th>\n      <th>EducationField</th>\n      <th>EmployeeCount</th>\n      <th>EmployeeID</th>\n      <th>Gender</th>\n      <th>...</th>\n      <th>NumCompaniesWorked</th>\n      <th>Over18</th>\n      <th>PercentSalaryHike</th>\n      <th>StandardHours</th>\n      <th>StockOptionLevel</th>\n      <th>TotalWorkingYears</th>\n      <th>TrainingTimesLastYear</th>\n      <th>YearsAtCompany</th>\n      <th>YearsSinceLastPromotion</th>\n      <th>YearsWithCurrManager</th>\n    </tr>\n  </thead>\n  <tbody>\n    <tr>\n      <th>0</th>\n      <td>51</td>\n      <td>No</td>\n      <td>Travel_Rarely</td>\n      <td>Sales</td>\n      <td>6</td>\n      <td>2</td>\n      <td>Life Sciences</td>\n      <td>1</td>\n      <td>1</td>\n      <td>Female</td>\n      <td>...</td>\n      <td>1.0</td>\n      <td>Y</td>\n      <td>11</td>\n      <td>8</td>\n      <td>0</td>\n      <td>1.0</td>\n      <td>6</td>\n      <td>1</td>\n      <td>0</td>\n      <td>0</td>\n    </tr>\n    <tr>\n      <th>1</th>\n      <td>31</td>\n      <td>Yes</td>\n      <td>Travel_Frequently</td>\n      <td>Research &amp; Development</td>\n      <td>10</td>\n      <td>1</td>\n      <td>Life Sciences</td>\n      <td>1</td>\n      <td>2</td>\n      <td>Female</td>\n      <td>...</td>\n      <td>0.0</td>\n      <td>Y</td>\n      <td>23</td>\n      <td>8</td>\n      <td>1</td>\n      <td>6.0</td>\n      <td>3</td>\n      <td>5</td>\n      <td>1</td>\n      <td>4</td>\n    </tr>\n    <tr>\n      <th>2</th>\n      <td>32</td>\n      <td>No</td>\n      <td>Travel_Frequently</td>\n      <td>Research &amp; Development</td>\n      <td>17</td>\n      <td>4</td>\n      <td>Other</td>\n      <td>1</td>\n      <td>3</td>\n      <td>Male</td>\n      <td>...</td>\n      <td>1.0</td>\n      <td>Y</td>\n      <td>15</td>\n      <td>8</td>\n      <td>3</td>\n      <td>5.0</td>\n      <td>2</td>\n      <td>5</td>\n      <td>0</td>\n      <td>3</td>\n    </tr>\n    <tr>\n      <th>3</th>\n      <td>38</td>\n      <td>No</td>\n      <td>Non-Travel</td>\n      <td>Research &amp; Development</td>\n      <td>2</td>\n      <td>5</td>\n      <td>Life Sciences</td>\n      <td>1</td>\n      <td>4</td>\n      <td>Male</td>\n      <td>...</td>\n      <td>3.0</td>\n      <td>Y</td>\n      <td>11</td>\n      <td>8</td>\n      <td>3</td>\n      <td>13.0</td>\n      <td>5</td>\n      <td>8</td>\n      <td>7</td>\n      <td>5</td>\n    </tr>\n    <tr>\n      <th>4</th>\n      <td>32</td>\n      <td>No</td>\n      <td>Travel_Rarely</td>\n      <td>Research &amp; Development</td>\n      <td>10</td>\n      <td>1</td>\n      <td>Medical</td>\n      <td>1</td>\n      <td>5</td>\n      <td>Male</td>\n      <td>...</td>\n      <td>4.0</td>\n      <td>Y</td>\n      <td>12</td>\n      <td>8</td>\n      <td>2</td>\n      <td>9.0</td>\n      <td>2</td>\n      <td>6</td>\n      <td>0</td>\n      <td>4</td>\n    </tr>\n  </tbody>\n</table>\n<p>5 rows × 24 columns</p>\n</div>"
     },
     "execution_count": 2,
     "metadata": {},
     "output_type": "execute_result"
    }
   ],
   "source": [
    "general_data = pd.read_csv('hr-analytics-case-study/general_data.csv')\n",
    "general_data.head()"
   ],
   "metadata": {
    "collapsed": false,
    "pycharm": {
     "name": "#%%\n"
    }
   }
  },
  {
   "cell_type": "code",
   "execution_count": 3,
   "outputs": [
    {
     "name": "stdout",
     "output_type": "stream",
     "text": [
      "Column\n",
      " Index(['Age', 'Attrition', 'BusinessTravel', 'Department', 'DistanceFromHome',\n",
      "       'Education', 'EducationField', 'EmployeeCount', 'EmployeeID', 'Gender',\n",
      "       'JobLevel', 'JobRole', 'MaritalStatus', 'MonthlyIncome',\n",
      "       'NumCompaniesWorked', 'Over18', 'PercentSalaryHike', 'StandardHours',\n",
      "       'StockOptionLevel', 'TotalWorkingYears', 'TrainingTimesLastYear',\n",
      "       'YearsAtCompany', 'YearsSinceLastPromotion', 'YearsWithCurrManager'],\n",
      "      dtype='object')\n",
      "French columns \n",
      " Index(['age', 'attrition', 'voyageDeTravail', 'departement',\n",
      "       'distanceEntreMaison', 'nivEtude', 'filiereEtude', 'nombreEmploye',\n",
      "       'idEmploye', 'sexe', 'nivTravail', 'roleTravail', 'etatMatrimonial',\n",
      "       'revenuMensuel', 'nbrAncienEntreprise', 'plusDe18',\n",
      "       'pourcAugmentationDeSalaire', 'heureStandard', 'nivCompensation',\n",
      "       'anneeExperience', 'nbrFormationAnneeDerniere', 'anneeAncienete',\n",
      "       'anneeDernierPromotion', 'anneeAvecManager'],\n",
      "      dtype='object')\n"
     ]
    },
    {
     "data": {
      "text/plain": "   age attrition    voyageDeTravail             departement  \\\n0   51        No      Travel_Rarely                   Sales   \n1   31       Yes  Travel_Frequently  Research & Development   \n2   32        No  Travel_Frequently  Research & Development   \n3   38        No         Non-Travel  Research & Development   \n4   32        No      Travel_Rarely  Research & Development   \n\n   distanceEntreMaison  nivEtude   filiereEtude  nombreEmploye  idEmploye  \\\n0                    6         2  Life Sciences              1          1   \n1                   10         1  Life Sciences              1          2   \n2                   17         4          Other              1          3   \n3                    2         5  Life Sciences              1          4   \n4                   10         1        Medical              1          5   \n\n     sexe  ...  nbrAncienEntreprise plusDe18 pourcAugmentationDeSalaire  \\\n0  Female  ...                  1.0        Y                         11   \n1  Female  ...                  0.0        Y                         23   \n2    Male  ...                  1.0        Y                         15   \n3    Male  ...                  3.0        Y                         11   \n4    Male  ...                  4.0        Y                         12   \n\n   heureStandard  nivCompensation anneeExperience  nbrFormationAnneeDerniere  \\\n0              8                0             1.0                          6   \n1              8                1             6.0                          3   \n2              8                3             5.0                          2   \n3              8                3            13.0                          5   \n4              8                2             9.0                          2   \n\n   anneeAncienete  anneeDernierPromotion  anneeAvecManager  \n0               1                      0                 0  \n1               5                      1                 4  \n2               5                      0                 3  \n3               8                      7                 5  \n4               6                      0                 4  \n\n[5 rows x 24 columns]",
      "text/html": "<div>\n<style scoped>\n    .dataframe tbody tr th:only-of-type {\n        vertical-align: middle;\n    }\n\n    .dataframe tbody tr th {\n        vertical-align: top;\n    }\n\n    .dataframe thead th {\n        text-align: right;\n    }\n</style>\n<table border=\"1\" class=\"dataframe\">\n  <thead>\n    <tr style=\"text-align: right;\">\n      <th></th>\n      <th>age</th>\n      <th>attrition</th>\n      <th>voyageDeTravail</th>\n      <th>departement</th>\n      <th>distanceEntreMaison</th>\n      <th>nivEtude</th>\n      <th>filiereEtude</th>\n      <th>nombreEmploye</th>\n      <th>idEmploye</th>\n      <th>sexe</th>\n      <th>...</th>\n      <th>nbrAncienEntreprise</th>\n      <th>plusDe18</th>\n      <th>pourcAugmentationDeSalaire</th>\n      <th>heureStandard</th>\n      <th>nivCompensation</th>\n      <th>anneeExperience</th>\n      <th>nbrFormationAnneeDerniere</th>\n      <th>anneeAncienete</th>\n      <th>anneeDernierPromotion</th>\n      <th>anneeAvecManager</th>\n    </tr>\n  </thead>\n  <tbody>\n    <tr>\n      <th>0</th>\n      <td>51</td>\n      <td>No</td>\n      <td>Travel_Rarely</td>\n      <td>Sales</td>\n      <td>6</td>\n      <td>2</td>\n      <td>Life Sciences</td>\n      <td>1</td>\n      <td>1</td>\n      <td>Female</td>\n      <td>...</td>\n      <td>1.0</td>\n      <td>Y</td>\n      <td>11</td>\n      <td>8</td>\n      <td>0</td>\n      <td>1.0</td>\n      <td>6</td>\n      <td>1</td>\n      <td>0</td>\n      <td>0</td>\n    </tr>\n    <tr>\n      <th>1</th>\n      <td>31</td>\n      <td>Yes</td>\n      <td>Travel_Frequently</td>\n      <td>Research &amp; Development</td>\n      <td>10</td>\n      <td>1</td>\n      <td>Life Sciences</td>\n      <td>1</td>\n      <td>2</td>\n      <td>Female</td>\n      <td>...</td>\n      <td>0.0</td>\n      <td>Y</td>\n      <td>23</td>\n      <td>8</td>\n      <td>1</td>\n      <td>6.0</td>\n      <td>3</td>\n      <td>5</td>\n      <td>1</td>\n      <td>4</td>\n    </tr>\n    <tr>\n      <th>2</th>\n      <td>32</td>\n      <td>No</td>\n      <td>Travel_Frequently</td>\n      <td>Research &amp; Development</td>\n      <td>17</td>\n      <td>4</td>\n      <td>Other</td>\n      <td>1</td>\n      <td>3</td>\n      <td>Male</td>\n      <td>...</td>\n      <td>1.0</td>\n      <td>Y</td>\n      <td>15</td>\n      <td>8</td>\n      <td>3</td>\n      <td>5.0</td>\n      <td>2</td>\n      <td>5</td>\n      <td>0</td>\n      <td>3</td>\n    </tr>\n    <tr>\n      <th>3</th>\n      <td>38</td>\n      <td>No</td>\n      <td>Non-Travel</td>\n      <td>Research &amp; Development</td>\n      <td>2</td>\n      <td>5</td>\n      <td>Life Sciences</td>\n      <td>1</td>\n      <td>4</td>\n      <td>Male</td>\n      <td>...</td>\n      <td>3.0</td>\n      <td>Y</td>\n      <td>11</td>\n      <td>8</td>\n      <td>3</td>\n      <td>13.0</td>\n      <td>5</td>\n      <td>8</td>\n      <td>7</td>\n      <td>5</td>\n    </tr>\n    <tr>\n      <th>4</th>\n      <td>32</td>\n      <td>No</td>\n      <td>Travel_Rarely</td>\n      <td>Research &amp; Development</td>\n      <td>10</td>\n      <td>1</td>\n      <td>Medical</td>\n      <td>1</td>\n      <td>5</td>\n      <td>Male</td>\n      <td>...</td>\n      <td>4.0</td>\n      <td>Y</td>\n      <td>12</td>\n      <td>8</td>\n      <td>2</td>\n      <td>9.0</td>\n      <td>2</td>\n      <td>6</td>\n      <td>0</td>\n      <td>4</td>\n    </tr>\n  </tbody>\n</table>\n<p>5 rows × 24 columns</p>\n</div>"
     },
     "execution_count": 3,
     "metadata": {},
     "output_type": "execute_result"
    }
   ],
   "source": [
    "print('Column\\n', general_data.columns)\n",
    "french_cols = ['age', 'attrition', 'voyageDeTravail', 'departement', 'distanceEntreMaison', 'nivEtudeSup', 'filiereEtude',\n",
    "               'nombreEmploye', 'idEmploye', 'sexe', 'nivTravail', 'roleTravail', 'etatMatrimonial', 'revenuMensuel',\n",
    "               'nbrAncienEntreprise', 'plusDe18', 'pourcAugmentationDeSalaire', 'heureStandard', 'nivCompensation',\n",
    "               'anneeExperience', 'nbrFormationAnneeDerniere', 'anneeAncienete', 'anneeDernierPromotion',\n",
    "               'anneeAvecManager']\n",
    "general_french_data = general_data.copy()\n",
    "general_french_data.columns = french_cols\n",
    "print('French columns \\n', general_french_data.columns)\n",
    "general_french_data.head()"
   ],
   "metadata": {
    "collapsed": false,
    "pycharm": {
     "name": "#%%\n"
    }
   }
  },
  {
   "cell_type": "code",
   "execution_count": 4,
   "outputs": [
    {
     "data": {
      "text/plain": "   age attrition     voyageDeTravail                 departement  \\\n0   51       Non     Voyage rarement                      Ventes   \n1   31       Oui  Voyage frequemment  Recherche et Developpement   \n2   32       Non  Voyage frequemment  Recherche et Developpement   \n3   38       Non        Aucun voyage  Recherche et Developpement   \n4   32       Non     Voyage rarement  Recherche et Developpement   \n\n   distanceEntreMaison  nivEtude        filiereEtude  nombreEmploye  \\\n0                    6         2  Sciences de la vie              1   \n1                   10         1  Sciences de la vie              1   \n2                   17         4               Autre              1   \n3                    2         5  Sciences de la vie              1   \n4                   10         1            Medecine              1   \n\n   idEmploye   sexe  ...  nbrAncienEntreprise plusDe18  \\\n0          1  Femme  ...                  1.0        O   \n1          2  Femme  ...                  0.0        O   \n2          3  Homme  ...                  1.0        O   \n3          4  Homme  ...                  3.0        O   \n4          5  Homme  ...                  4.0        O   \n\n  pourcAugmentationDeSalaire  heureStandard  nivCompensation anneeExperience  \\\n0                         11              8                0             1.0   \n1                         23              8                1             6.0   \n2                         15              8                3             5.0   \n3                         11              8                3            13.0   \n4                         12              8                2             9.0   \n\n   nbrFormationAnneeDerniere  anneeAncienete  anneeDernierPromotion  \\\n0                          6               1                      0   \n1                          3               5                      1   \n2                          2               5                      0   \n3                          5               8                      7   \n4                          2               6                      0   \n\n   anneeAvecManager  \n0                 0  \n1                 4  \n2                 3  \n3                 5  \n4                 4  \n\n[5 rows x 24 columns]",
      "text/html": "<div>\n<style scoped>\n    .dataframe tbody tr th:only-of-type {\n        vertical-align: middle;\n    }\n\n    .dataframe tbody tr th {\n        vertical-align: top;\n    }\n\n    .dataframe thead th {\n        text-align: right;\n    }\n</style>\n<table border=\"1\" class=\"dataframe\">\n  <thead>\n    <tr style=\"text-align: right;\">\n      <th></th>\n      <th>age</th>\n      <th>attrition</th>\n      <th>voyageDeTravail</th>\n      <th>departement</th>\n      <th>distanceEntreMaison</th>\n      <th>nivEtude</th>\n      <th>filiereEtude</th>\n      <th>nombreEmploye</th>\n      <th>idEmploye</th>\n      <th>sexe</th>\n      <th>...</th>\n      <th>nbrAncienEntreprise</th>\n      <th>plusDe18</th>\n      <th>pourcAugmentationDeSalaire</th>\n      <th>heureStandard</th>\n      <th>nivCompensation</th>\n      <th>anneeExperience</th>\n      <th>nbrFormationAnneeDerniere</th>\n      <th>anneeAncienete</th>\n      <th>anneeDernierPromotion</th>\n      <th>anneeAvecManager</th>\n    </tr>\n  </thead>\n  <tbody>\n    <tr>\n      <th>0</th>\n      <td>51</td>\n      <td>Non</td>\n      <td>Voyage rarement</td>\n      <td>Ventes</td>\n      <td>6</td>\n      <td>2</td>\n      <td>Sciences de la vie</td>\n      <td>1</td>\n      <td>1</td>\n      <td>Femme</td>\n      <td>...</td>\n      <td>1.0</td>\n      <td>O</td>\n      <td>11</td>\n      <td>8</td>\n      <td>0</td>\n      <td>1.0</td>\n      <td>6</td>\n      <td>1</td>\n      <td>0</td>\n      <td>0</td>\n    </tr>\n    <tr>\n      <th>1</th>\n      <td>31</td>\n      <td>Oui</td>\n      <td>Voyage frequemment</td>\n      <td>Recherche et Developpement</td>\n      <td>10</td>\n      <td>1</td>\n      <td>Sciences de la vie</td>\n      <td>1</td>\n      <td>2</td>\n      <td>Femme</td>\n      <td>...</td>\n      <td>0.0</td>\n      <td>O</td>\n      <td>23</td>\n      <td>8</td>\n      <td>1</td>\n      <td>6.0</td>\n      <td>3</td>\n      <td>5</td>\n      <td>1</td>\n      <td>4</td>\n    </tr>\n    <tr>\n      <th>2</th>\n      <td>32</td>\n      <td>Non</td>\n      <td>Voyage frequemment</td>\n      <td>Recherche et Developpement</td>\n      <td>17</td>\n      <td>4</td>\n      <td>Autre</td>\n      <td>1</td>\n      <td>3</td>\n      <td>Homme</td>\n      <td>...</td>\n      <td>1.0</td>\n      <td>O</td>\n      <td>15</td>\n      <td>8</td>\n      <td>3</td>\n      <td>5.0</td>\n      <td>2</td>\n      <td>5</td>\n      <td>0</td>\n      <td>3</td>\n    </tr>\n    <tr>\n      <th>3</th>\n      <td>38</td>\n      <td>Non</td>\n      <td>Aucun voyage</td>\n      <td>Recherche et Developpement</td>\n      <td>2</td>\n      <td>5</td>\n      <td>Sciences de la vie</td>\n      <td>1</td>\n      <td>4</td>\n      <td>Homme</td>\n      <td>...</td>\n      <td>3.0</td>\n      <td>O</td>\n      <td>11</td>\n      <td>8</td>\n      <td>3</td>\n      <td>13.0</td>\n      <td>5</td>\n      <td>8</td>\n      <td>7</td>\n      <td>5</td>\n    </tr>\n    <tr>\n      <th>4</th>\n      <td>32</td>\n      <td>Non</td>\n      <td>Voyage rarement</td>\n      <td>Recherche et Developpement</td>\n      <td>10</td>\n      <td>1</td>\n      <td>Medecine</td>\n      <td>1</td>\n      <td>5</td>\n      <td>Homme</td>\n      <td>...</td>\n      <td>4.0</td>\n      <td>O</td>\n      <td>12</td>\n      <td>8</td>\n      <td>2</td>\n      <td>9.0</td>\n      <td>2</td>\n      <td>6</td>\n      <td>0</td>\n      <td>4</td>\n    </tr>\n  </tbody>\n</table>\n<p>5 rows × 24 columns</p>\n</div>"
     },
     "execution_count": 4,
     "metadata": {},
     "output_type": "execute_result"
    }
   ],
   "source": [
    "general_french_data['attrition'] = general_french_data['attrition']\\\n",
    "    .replace(['No', 'Yes'], ['Non', 'Oui'])\n",
    "\n",
    "general_french_data['voyageDeTravail'] = general_french_data['voyageDeTravail']\\\n",
    "    .replace(['Travel_Rarely', 'Travel_Frequently', 'Non-Travel'],\n",
    "             ['Voyage rarement', 'Voyage frequemment', 'Aucun voyage'])\n",
    "\n",
    "general_french_data['departement'] = general_french_data['departement']\\\n",
    ".replace(['Research & Development', 'Sales', 'Human Resources'],\n",
    "         ['Recherche et Developpement', 'Ventes', 'Ressources Humaines'])\n",
    "\n",
    "general_french_data['filiereEtude'] = general_french_data['filiereEtude']\\\n",
    ".replace(['Life Sciences', 'Medical', 'Marketing', 'Technical Degree', 'Other', 'Human Resources'],\n",
    "         ['Sciences de la vie', 'Medecine', 'Marketing', 'Diplome Polytechnique', 'Autre', 'Ressources Humaine'])\n",
    "\n",
    "general_french_data['sexe'] = general_french_data['sexe']\\\n",
    ".replace(['Male', 'Female'],\n",
    "         ['Homme', 'Femme'])\n",
    "\n",
    "general_french_data['roleTravail'] = general_french_data['roleTravail']\\\n",
    ".replace(['Sales Executive', 'Research Scientist', 'Laboratory Technician', 'Manufacturing Director',\n",
    "          'Healthcare Representative', 'Manager', 'Sales Representative', 'Research Director', 'Human Resources'],\n",
    "         ['Directeurs des ventes', 'Chercheurs', 'Technicien de laboratoire', 'Directeur de fabrication',\n",
    "          'Médecin interne', 'Manager', 'Commercial', 'Directeur de recherche', 'Ressources humaines'])\n",
    "\n",
    "general_french_data['etatMatrimonial'] = general_french_data['etatMatrimonial']\\\n",
    ".replace(['Married', 'Single', 'Divorced'],\n",
    "         ['Marrié', 'Célibataire', 'Divorcé'])\n",
    "\n",
    "general_french_data['plusDe18'] = general_french_data['plusDe18'].replace('Y', 'O')\n",
    "\n",
    "general_french_data.head()"
   ],
   "metadata": {
    "collapsed": false,
    "pycharm": {
     "name": "#%%\n"
    }
   }
  },
  {
   "cell_type": "markdown",
   "source": [
    "## Employee Promotion"
   ],
   "metadata": {
    "collapsed": false
   }
  },
  {
   "cell_type": "code",
   "execution_count": 5,
   "outputs": [
    {
     "data": {
      "text/plain": "   employee_id         department     region         education gender  \\\n0        65438  Sales & Marketing   region_7  Master's & above      f   \n1        65141         Operations  region_22        Bachelor's      m   \n2         7513  Sales & Marketing  region_19        Bachelor's      m   \n3         2542  Sales & Marketing  region_23        Bachelor's      m   \n4        48945         Technology  region_26        Bachelor's      m   \n\n  recruitment_channel  no_of_trainings  age  previous_year_rating  \\\n0            sourcing                1   35                   5.0   \n1               other                1   30                   5.0   \n2            sourcing                1   34                   3.0   \n3               other                2   39                   1.0   \n4               other                1   45                   3.0   \n\n   length_of_service  awards_won?  avg_training_score  is_promoted  \n0                  8            0                  49            0  \n1                  4            0                  60            0  \n2                  7            0                  50            0  \n3                 10            0                  50            0  \n4                  2            0                  73            0  ",
      "text/html": "<div>\n<style scoped>\n    .dataframe tbody tr th:only-of-type {\n        vertical-align: middle;\n    }\n\n    .dataframe tbody tr th {\n        vertical-align: top;\n    }\n\n    .dataframe thead th {\n        text-align: right;\n    }\n</style>\n<table border=\"1\" class=\"dataframe\">\n  <thead>\n    <tr style=\"text-align: right;\">\n      <th></th>\n      <th>employee_id</th>\n      <th>department</th>\n      <th>region</th>\n      <th>education</th>\n      <th>gender</th>\n      <th>recruitment_channel</th>\n      <th>no_of_trainings</th>\n      <th>age</th>\n      <th>previous_year_rating</th>\n      <th>length_of_service</th>\n      <th>awards_won?</th>\n      <th>avg_training_score</th>\n      <th>is_promoted</th>\n    </tr>\n  </thead>\n  <tbody>\n    <tr>\n      <th>0</th>\n      <td>65438</td>\n      <td>Sales &amp; Marketing</td>\n      <td>region_7</td>\n      <td>Master's &amp; above</td>\n      <td>f</td>\n      <td>sourcing</td>\n      <td>1</td>\n      <td>35</td>\n      <td>5.0</td>\n      <td>8</td>\n      <td>0</td>\n      <td>49</td>\n      <td>0</td>\n    </tr>\n    <tr>\n      <th>1</th>\n      <td>65141</td>\n      <td>Operations</td>\n      <td>region_22</td>\n      <td>Bachelor's</td>\n      <td>m</td>\n      <td>other</td>\n      <td>1</td>\n      <td>30</td>\n      <td>5.0</td>\n      <td>4</td>\n      <td>0</td>\n      <td>60</td>\n      <td>0</td>\n    </tr>\n    <tr>\n      <th>2</th>\n      <td>7513</td>\n      <td>Sales &amp; Marketing</td>\n      <td>region_19</td>\n      <td>Bachelor's</td>\n      <td>m</td>\n      <td>sourcing</td>\n      <td>1</td>\n      <td>34</td>\n      <td>3.0</td>\n      <td>7</td>\n      <td>0</td>\n      <td>50</td>\n      <td>0</td>\n    </tr>\n    <tr>\n      <th>3</th>\n      <td>2542</td>\n      <td>Sales &amp; Marketing</td>\n      <td>region_23</td>\n      <td>Bachelor's</td>\n      <td>m</td>\n      <td>other</td>\n      <td>2</td>\n      <td>39</td>\n      <td>1.0</td>\n      <td>10</td>\n      <td>0</td>\n      <td>50</td>\n      <td>0</td>\n    </tr>\n    <tr>\n      <th>4</th>\n      <td>48945</td>\n      <td>Technology</td>\n      <td>region_26</td>\n      <td>Bachelor's</td>\n      <td>m</td>\n      <td>other</td>\n      <td>1</td>\n      <td>45</td>\n      <td>3.0</td>\n      <td>2</td>\n      <td>0</td>\n      <td>73</td>\n      <td>0</td>\n    </tr>\n  </tbody>\n</table>\n</div>"
     },
     "execution_count": 5,
     "metadata": {},
     "output_type": "execute_result"
    }
   ],
   "source": [
    "promo = pd.read_csv('hr-analytics-case-study/employee_promo_train.csv')\n",
    "promo.head()"
   ],
   "metadata": {
    "collapsed": false,
    "pycharm": {
     "name": "#%%\n"
    }
   }
  },
  {
   "cell_type": "code",
   "execution_count": 6,
   "outputs": [
    {
     "data": {
      "text/plain": "<Figure size 1440x360 with 1 Axes>",
      "image/png": "[encoded data removed]"
     },
     "metadata": {
      "needs_background": "light"
     },
     "output_type": "display_data"
    }
   ],
   "source": [
    "plt.figure(figsize=(20, 5))\n",
    "ax = sns.countplot(x=\"department\", data=promo, order=promo['department'].value_counts().index, hue='is_promoted',\n",
    "                   palette='viridis')\n",
    "ax.grid(False)\n",
    "plt.title('Department')\n",
    "plt.show();"
   ],
   "metadata": {
    "collapsed": false,
    "pycharm": {
     "name": "#%%\n"
    }
   }
  },
  {
   "cell_type": "code",
   "execution_count": 28,
   "outputs": [
    {
     "name": "stdout",
     "output_type": "stream",
     "text": [
      "Column \n",
      " Index(['employee_id', 'department', 'region', 'education', 'gender',\n",
      "       'recruitment_channel', 'no_of_trainings', 'age', 'previous_year_rating',\n",
      "       'length_of_service', 'awards_won?', 'avg_training_score',\n",
      "       'is_promoted'],\n",
      "      dtype='object')\n",
      "French column \n",
      " Index(['idEmploye', 'departement', 'region', 'nivDiplome', 'sexe',\n",
      "       'chaineRecrutement', 'nbrFormation', 'age', 'noteAnneDerniere',\n",
      "       'anneeExperience', 'avoirPrix', 'noteMoyFormation', 'estPromu'],\n",
      "      dtype='object')\n"
     ]
    },
    {
     "data": {
      "text/plain": "   idEmploye        departement     region        nivDiplome sexe  \\\n0      65438  Sales & Marketing   region_7  Master's & above    f   \n1      65141         Operations  region_22        Bachelor's    m   \n2       7513  Sales & Marketing  region_19        Bachelor's    m   \n3       2542  Sales & Marketing  region_23        Bachelor's    m   \n4      48945         Technology  region_26        Bachelor's    m   \n\n  chaineRecrutement  nbrFormation  age  noteAnneDerniere  anneeExperience  \\\n0          sourcing             1   35               5.0                8   \n1             other             1   30               5.0                4   \n2          sourcing             1   34               3.0                7   \n3             other             2   39               1.0               10   \n4             other             1   45               3.0                2   \n\n   avoirPrix  noteMoyFormation  estPromu  \n0          0                49         0  \n1          0                60         0  \n2          0                50         0  \n3          0                50         0  \n4          0                73         0  ",
      "text/html": "<div>\n<style scoped>\n    .dataframe tbody tr th:only-of-type {\n        vertical-align: middle;\n    }\n\n    .dataframe tbody tr th {\n        vertical-align: top;\n    }\n\n    .dataframe thead th {\n        text-align: right;\n    }\n</style>\n<table border=\"1\" class=\"dataframe\">\n  <thead>\n    <tr style=\"text-align: right;\">\n      <th></th>\n      <th>idEmploye</th>\n      <th>departement</th>\n      <th>region</th>\n      <th>nivDiplome</th>\n      <th>sexe</th>\n      <th>chaineRecrutement</th>\n      <th>nbrFormation</th>\n      <th>age</th>\n      <th>noteAnneDerniere</th>\n      <th>anneeExperience</th>\n      <th>avoirPrix</th>\n      <th>noteMoyFormation</th>\n      <th>estPromu</th>\n    </tr>\n  </thead>\n  <tbody>\n    <tr>\n      <th>0</th>\n      <td>65438</td>\n      <td>Sales &amp; Marketing</td>\n      <td>region_7</td>\n      <td>Master's &amp; above</td>\n      <td>f</td>\n      <td>sourcing</td>\n      <td>1</td>\n      <td>35</td>\n      <td>5.0</td>\n      <td>8</td>\n      <td>0</td>\n      <td>49</td>\n      <td>0</td>\n    </tr>\n    <tr>\n      <th>1</th>\n      <td>65141</td>\n      <td>Operations</td>\n      <td>region_22</td>\n      <td>Bachelor's</td>\n      <td>m</td>\n      <td>other</td>\n      <td>1</td>\n      <td>30</td>\n      <td>5.0</td>\n      <td>4</td>\n      <td>0</td>\n      <td>60</td>\n      <td>0</td>\n    </tr>\n    <tr>\n      <th>2</th>\n      <td>7513</td>\n      <td>Sales &amp; Marketing</td>\n      <td>region_19</td>\n      <td>Bachelor's</td>\n      <td>m</td>\n      <td>sourcing</td>\n      <td>1</td>\n      <td>34</td>\n      <td>3.0</td>\n      <td>7</td>\n      <td>0</td>\n      <td>50</td>\n      <td>0</td>\n    </tr>\n    <tr>\n      <th>3</th>\n      <td>2542</td>\n      <td>Sales &amp; Marketing</td>\n      <td>region_23</td>\n      <td>Bachelor's</td>\n      <td>m</td>\n      <td>other</td>\n      <td>2</td>\n      <td>39</td>\n      <td>1.0</td>\n      <td>10</td>\n      <td>0</td>\n      <td>50</td>\n      <td>0</td>\n    </tr>\n    <tr>\n      <th>4</th>\n      <td>48945</td>\n      <td>Technology</td>\n      <td>region_26</td>\n      <td>Bachelor's</td>\n      <td>m</td>\n      <td>other</td>\n      <td>1</td>\n      <td>45</td>\n      <td>3.0</td>\n      <td>2</td>\n      <td>0</td>\n      <td>73</td>\n      <td>0</td>\n    </tr>\n  </tbody>\n</table>\n</div>"
     },
     "execution_count": 28,
     "metadata": {},
     "output_type": "execute_result"
    }
   ],
   "source": [
    "promo_c = promo.copy()\n",
    "print('Column \\n', promo_c.columns)\n",
    "\n",
    "french_cols = ['idEmploye', 'departement', 'region', 'nivDiplome', 'sexe', 'chaineRecrutement', 'nbrFormation',\n",
    "               'age', 'noteAnneDerniere', 'anneeExperience', 'avoirPrix', 'noteMoyFormation',\n",
    "               'estPromu']\n",
    "promo_c.columns = french_cols\n",
    "\n",
    "print('French column \\n', promo_c.columns)\n",
    "promo_c.head()"
   ],
   "metadata": {
    "collapsed": false,
    "pycharm": {
     "name": "#%%\n"
    }
   }
  },
  {
   "cell_type": "code",
   "execution_count": 29,
   "outputs": [
    {
     "data": {
      "text/plain": "   idEmploye  departement     region      nivDiplome sexe chaineRecrutement  \\\n0      65438       Ventes   region_7  Master ou plus    f          sourcing   \n1      65141   Operations  region_22         License    m             autre   \n2       7513       Ventes  region_19         License    m          sourcing   \n3       2542       Ventes  region_23         License    m             autre   \n4      48945  Technologie  region_26         License    m             autre   \n\n   nbrFormation  age  noteAnneDerniere  anneeExperience  avoirPrix  \\\n0             1   35               5.0                8          0   \n1             1   30               5.0                4          0   \n2             1   34               3.0                7          0   \n3             2   39               1.0               10          0   \n4             1   45               3.0                2          0   \n\n   noteMoyFormation  estPromu  \n0                49         0  \n1                60         0  \n2                50         0  \n3                50         0  \n4                73         0  ",
      "text/html": "<div>\n<style scoped>\n    .dataframe tbody tr th:only-of-type {\n        vertical-align: middle;\n    }\n\n    .dataframe tbody tr th {\n        vertical-align: top;\n    }\n\n    .dataframe thead th {\n        text-align: right;\n    }\n</style>\n<table border=\"1\" class=\"dataframe\">\n  <thead>\n    <tr style=\"text-align: right;\">\n      <th></th>\n      <th>idEmploye</th>\n      <th>departement</th>\n      <th>region</th>\n      <th>nivDiplome</th>\n      <th>sexe</th>\n      <th>chaineRecrutement</th>\n      <th>nbrFormation</th>\n      <th>age</th>\n      <th>noteAnneDerniere</th>\n      <th>anneeExperience</th>\n      <th>avoirPrix</th>\n      <th>noteMoyFormation</th>\n      <th>estPromu</th>\n    </tr>\n  </thead>\n  <tbody>\n    <tr>\n      <th>0</th>\n      <td>65438</td>\n      <td>Ventes</td>\n      <td>region_7</td>\n      <td>Master ou plus</td>\n      <td>f</td>\n      <td>sourcing</td>\n      <td>1</td>\n      <td>35</td>\n      <td>5.0</td>\n      <td>8</td>\n      <td>0</td>\n      <td>49</td>\n      <td>0</td>\n    </tr>\n    <tr>\n      <th>1</th>\n      <td>65141</td>\n      <td>Operations</td>\n      <td>region_22</td>\n      <td>License</td>\n      <td>m</td>\n      <td>autre</td>\n      <td>1</td>\n      <td>30</td>\n      <td>5.0</td>\n      <td>4</td>\n      <td>0</td>\n      <td>60</td>\n      <td>0</td>\n    </tr>\n    <tr>\n      <th>2</th>\n      <td>7513</td>\n      <td>Ventes</td>\n      <td>region_19</td>\n      <td>License</td>\n      <td>m</td>\n      <td>sourcing</td>\n      <td>1</td>\n      <td>34</td>\n      <td>3.0</td>\n      <td>7</td>\n      <td>0</td>\n      <td>50</td>\n      <td>0</td>\n    </tr>\n    <tr>\n      <th>3</th>\n      <td>2542</td>\n      <td>Ventes</td>\n      <td>region_23</td>\n      <td>License</td>\n      <td>m</td>\n      <td>autre</td>\n      <td>2</td>\n      <td>39</td>\n      <td>1.0</td>\n      <td>10</td>\n      <td>0</td>\n      <td>50</td>\n      <td>0</td>\n    </tr>\n    <tr>\n      <th>4</th>\n      <td>48945</td>\n      <td>Technologie</td>\n      <td>region_26</td>\n      <td>License</td>\n      <td>m</td>\n      <td>autre</td>\n      <td>1</td>\n      <td>45</td>\n      <td>3.0</td>\n      <td>2</td>\n      <td>0</td>\n      <td>73</td>\n      <td>0</td>\n    </tr>\n  </tbody>\n</table>\n</div>"
     },
     "execution_count": 29,
     "metadata": {},
     "output_type": "execute_result"
    }
   ],
   "source": [
    "promo_c['departement'] = promo_c['departement'].replace(\n",
    "    ['Sales & Marketing', 'Operations', 'Technology', 'Procurement', 'Analytics', 'Finance', 'HR', 'Legal', 'R&D'],\n",
    "    ['Ventes', 'Operations', 'Technologie', 'Approvisionnement', 'Analytiques', 'Finance', 'Ressources Humaines', 'Juridique', 'Recherche et Developpement'],\n",
    ")\n",
    "\n",
    "promo_c['nivDiplome'] = promo_c['nivDiplome'].replace(\n",
    "    [\"Bachelor's\", \"Master's & above\", \"Below Secondary\"],\n",
    "    [\"License\", \"Master ou plus\", \"Secondaire ou moin\"]\n",
    ")\n",
    "\n",
    "promo_c['chaineRecrutement'] = promo_c['chaineRecrutement'].replace(\n",
    "    [\"other\", \"sourcing\", \"referred\"],\n",
    "    [\"autre\", \"sourcing\", \"recommendé\"],\n",
    ")\n",
    "\n",
    "promo_c.head()"
   ],
   "metadata": {
    "collapsed": false,
    "pycharm": {
     "name": "#%%\n"
    }
   }
  },
  {
   "cell_type": "markdown",
   "source": [
    "# Load the translated data"
   ],
   "metadata": {
    "collapsed": false
   }
  },
  {
   "cell_type": "code",
   "execution_count": 30,
   "outputs": [
    {
     "name": "stdout",
     "output_type": "stream",
     "text": [
      "THe file is already exist.\n",
      "File saved.\n"
     ]
    }
   ],
   "source": [
    "try:\n",
    "    pd.read_csv(\"hr-analytics-case-study/general_data_fr.csv\")\n",
    "    print(\"THe file is already exist.\")\n",
    "except FileNotFoundError:\n",
    "    general_french_data.to_csv(\"hr-analytics-case-study/general_data_fr.csv\")\n",
    "    print('File saved')\n",
    "\n",
    "try:\n",
    "    pd.read_csv(\"hr-analytics-case-study/employee_promo_train_fr.csv\")\n",
    "    print('The file is already exist.')\n",
    "except FileNotFoundError:\n",
    "    promo_c.to_csv(\"hr-analytics-case-study/employee_promo_train_fr.csv\")\n",
    "    print('File saved.')"
   ],
   "metadata": {
    "collapsed": false,
    "pycharm": {
     "name": "#%%\n"
    }
   }
  },
  {
   "cell_type": "code",
   "execution_count": null,
   "outputs": [],
   "source": [],
   "metadata": {
    "collapsed": false,
    "pycharm": {
     "name": "#%%\n"
    }
   }
  }
 ],
 "metadata": {
  "kernelspec": {
   "display_name": "Python 3",
   "language": "python",
   "name": "python3"
  },
  "language_info": {
   "codemirror_mode": {
    "name": "ipython",
    "version": 2
   },
   "file_extension": ".py",
   "mimetype": "text/x-python",
   "name": "python",
   "nbconvert_exporter": "python",
   "pygments_lexer": "ipython2",
   "version": "2.7.6"
  }
 },
 "nbformat": 4,
 "nbformat_minor": 0
}