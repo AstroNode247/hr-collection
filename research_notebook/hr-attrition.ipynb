{
 "cells": [
  {
   "cell_type": "markdown",
   "metadata": {
    "collapsed": true,
    "pycharm": {
     "name": "#%% md\n"
    }
   },
   "source": [
    "# Etude de cas sur l'analyse des ressources humaines\n",
    "Chaque année, à peu près 15% des employées quitte l'entreprise et doivent être remplacés par des talents disponible sur le marché du travail. Le but ici est de créer un modèle capable de prédire l'attrition d'un employé."
   ]
  },
  {
   "cell_type": "code",
   "execution_count": 1,
   "outputs": [],
   "source": [
    "import numpy as np\n",
    "import pandas as pd\n",
    "import seaborn as sns\n",
    "\n",
    "import matplotlib.pyplot as plt\n",
    "from sklearn.metrics import accuracy_score,f1_score,recall_score\n",
    "from sklearn.model_selection import train_test_split\n",
    "from sklearn.preprocessing import LabelEncoder, MinMaxScaler, StandardScaler, OneHotEncoder\n",
    "from sklearn.ensemble import RandomForestClassifier"
   ],
   "metadata": {
    "collapsed": false,
    "pycharm": {
     "name": "#%%\n"
    }
   }
  },
  {
   "cell_type": "markdown",
   "source": [
    "## Analyse"
   ],
   "metadata": {
    "collapsed": false
   }
  },
  {
   "cell_type": "markdown",
   "source": [
    "### Lecture"
   ],
   "metadata": {
    "collapsed": false
   }
  },
  {
   "cell_type": "code",
   "execution_count": 2,
   "outputs": [],
   "source": [
    "def read_data(data):\n",
    "    \"\"\"Lire un dataframe et afficher la tête\"\"\"\n",
    "    X = pd.read_csv(data)\n",
    "    print('Number of rows : ', X.shape[0])\n",
    "    print('Number of columns : ', X.shape[1])\n",
    "    if 'Unnamed: 0' in X.columns:\n",
    "        X.drop('Unnamed: 0', axis=1, inplace=True)\n",
    "\n",
    "    return X\n",
    "\n",
    "HR_CASE_STUDY = 'hr-analytics-case-study/'"
   ],
   "metadata": {
    "collapsed": false,
    "pycharm": {
     "name": "#%%\n"
    }
   }
  },
  {
   "cell_type": "code",
   "execution_count": 3,
   "outputs": [
    {
     "name": "stdout",
     "output_type": "stream",
     "text": [
      "Number of rows :  4410\n",
      "Number of columns :  4\n"
     ]
    },
    {
     "data": {
      "text/plain": "   EmployeeID  EnvironmentSatisfaction  JobSatisfaction  WorkLifeBalance\n0           1                      3.0              4.0              2.0\n1           2                      3.0              2.0              4.0\n2           3                      2.0              2.0              1.0\n3           4                      4.0              4.0              3.0\n4           5                      4.0              1.0              3.0",
      "text/html": "<div>\n<style scoped>\n    .dataframe tbody tr th:only-of-type {\n        vertical-align: middle;\n    }\n\n    .dataframe tbody tr th {\n        vertical-align: top;\n    }\n\n    .dataframe thead th {\n        text-align: right;\n    }\n</style>\n<table border=\"1\" class=\"dataframe\">\n  <thead>\n    <tr style=\"text-align: right;\">\n      <th></th>\n      <th>EmployeeID</th>\n      <th>EnvironmentSatisfaction</th>\n      <th>JobSatisfaction</th>\n      <th>WorkLifeBalance</th>\n    </tr>\n  </thead>\n  <tbody>\n    <tr>\n      <th>0</th>\n      <td>1</td>\n      <td>3.0</td>\n      <td>4.0</td>\n      <td>2.0</td>\n    </tr>\n    <tr>\n      <th>1</th>\n      <td>2</td>\n      <td>3.0</td>\n      <td>2.0</td>\n      <td>4.0</td>\n    </tr>\n    <tr>\n      <th>2</th>\n      <td>3</td>\n      <td>2.0</td>\n      <td>2.0</td>\n      <td>1.0</td>\n    </tr>\n    <tr>\n      <th>3</th>\n      <td>4</td>\n      <td>4.0</td>\n      <td>4.0</td>\n      <td>3.0</td>\n    </tr>\n    <tr>\n      <th>4</th>\n      <td>5</td>\n      <td>4.0</td>\n      <td>1.0</td>\n      <td>3.0</td>\n    </tr>\n  </tbody>\n</table>\n</div>"
     },
     "execution_count": 3,
     "metadata": {},
     "output_type": "execute_result"
    }
   ],
   "source": [
    "employee_survey = read_data(HR_CASE_STUDY + 'employee_survey_data.csv')\n",
    "employee_survey.head()"
   ],
   "metadata": {
    "collapsed": false,
    "pycharm": {
     "name": "#%%\n"
    }
   }
  },
  {
   "cell_type": "code",
   "execution_count": 4,
   "outputs": [
    {
     "name": "stdout",
     "output_type": "stream",
     "text": [
      "Number of rows :  4410\n",
      "Number of columns :  3\n"
     ]
    },
    {
     "data": {
      "text/plain": "   EmployeeID  JobInvolvement  PerformanceRating\n0           1               3                  3\n1           2               2                  4\n2           3               3                  3\n3           4               2                  3\n4           5               3                  3",
      "text/html": "<div>\n<style scoped>\n    .dataframe tbody tr th:only-of-type {\n        vertical-align: middle;\n    }\n\n    .dataframe tbody tr th {\n        vertical-align: top;\n    }\n\n    .dataframe thead th {\n        text-align: right;\n    }\n</style>\n<table border=\"1\" class=\"dataframe\">\n  <thead>\n    <tr style=\"text-align: right;\">\n      <th></th>\n      <th>EmployeeID</th>\n      <th>JobInvolvement</th>\n      <th>PerformanceRating</th>\n    </tr>\n  </thead>\n  <tbody>\n    <tr>\n      <th>0</th>\n      <td>1</td>\n      <td>3</td>\n      <td>3</td>\n    </tr>\n    <tr>\n      <th>1</th>\n      <td>2</td>\n      <td>2</td>\n      <td>4</td>\n    </tr>\n    <tr>\n      <th>2</th>\n      <td>3</td>\n      <td>3</td>\n      <td>3</td>\n    </tr>\n    <tr>\n      <th>3</th>\n      <td>4</td>\n      <td>2</td>\n      <td>3</td>\n    </tr>\n    <tr>\n      <th>4</th>\n      <td>5</td>\n      <td>3</td>\n      <td>3</td>\n    </tr>\n  </tbody>\n</table>\n</div>"
     },
     "execution_count": 4,
     "metadata": {},
     "output_type": "execute_result"
    }
   ],
   "source": [
    "manager_survey = read_data(HR_CASE_STUDY + 'manager_survey_data.csv')\n",
    "manager_survey.head()"
   ],
   "metadata": {
    "collapsed": false,
    "pycharm": {
     "name": "#%%\n"
    }
   }
  },
  {
   "cell_type": "code",
   "execution_count": 5,
   "outputs": [
    {
     "name": "stdout",
     "output_type": "stream",
     "text": [
      "Number of rows :  4410\n",
      "Number of columns :  262\n"
     ]
    },
    {
     "data": {
      "text/plain": "   2015-01-01           2015-01-02           2015-01-05           2015-01-06  \\\n0         NaN  2015-01-02 09:43:45  2015-01-05 10:08:48  2015-01-06 09:54:26   \n1         NaN  2015-01-02 10:15:44  2015-01-05 10:21:05                  NaN   \n2         NaN  2015-01-02 10:17:41  2015-01-05 09:50:50  2015-01-06 10:14:13   \n3         NaN  2015-01-02 10:05:06  2015-01-05 09:56:32  2015-01-06 10:11:07   \n4         NaN  2015-01-02 10:28:17  2015-01-05 09:49:58  2015-01-06 09:45:28   \n\n            2015-01-07           2015-01-08           2015-01-09  \\\n0  2015-01-07 09:34:31  2015-01-08 09:51:09  2015-01-09 10:09:25   \n1  2015-01-07 09:45:17  2015-01-08 10:09:04  2015-01-09 09:43:26   \n2  2015-01-07 09:47:27  2015-01-08 10:03:40  2015-01-09 10:05:49   \n3  2015-01-07 09:37:30  2015-01-08 10:02:08  2015-01-09 10:08:12   \n4  2015-01-07 09:49:37  2015-01-08 10:19:44  2015-01-09 10:00:50   \n\n            2015-01-12           2015-01-13  2015-01-14  ...  \\\n0  2015-01-12 09:42:53  2015-01-13 10:13:06         NaN  ...   \n1  2015-01-12 10:00:07  2015-01-13 10:43:29         NaN  ...   \n2  2015-01-12 10:03:47  2015-01-13 10:21:26         NaN  ...   \n3  2015-01-12 10:13:42  2015-01-13 09:53:22         NaN  ...   \n4  2015-01-12 10:29:27  2015-01-13 09:59:32         NaN  ...   \n\n            2015-12-18           2015-12-21           2015-12-22  \\\n0                  NaN  2015-12-21 09:55:29  2015-12-22 10:04:06   \n1  2015-12-18 10:37:17  2015-12-21 09:49:02  2015-12-22 10:33:51   \n2  2015-12-18 10:15:14  2015-12-21 10:10:28  2015-12-22 09:44:44   \n3  2015-12-18 10:17:38  2015-12-21 09:58:21  2015-12-22 10:04:25   \n4  2015-12-18 09:58:35  2015-12-21 10:03:41  2015-12-22 10:10:30   \n\n            2015-12-23           2015-12-24 2015-12-25           2015-12-28  \\\n0  2015-12-23 10:14:27  2015-12-24 10:11:35        NaN  2015-12-28 10:13:41   \n1  2015-12-23 10:12:10                  NaN        NaN  2015-12-28 09:31:45   \n2  2015-12-23 10:15:54  2015-12-24 10:07:26        NaN  2015-12-28 09:42:05   \n3  2015-12-23 10:11:46  2015-12-24 09:43:15        NaN  2015-12-28 09:52:44   \n4  2015-12-23 10:13:36  2015-12-24 09:44:24        NaN  2015-12-28 10:05:15   \n\n            2015-12-29           2015-12-30           2015-12-31  \n0  2015-12-29 10:03:36  2015-12-30 09:54:12  2015-12-31 10:12:44  \n1  2015-12-29 09:55:49  2015-12-30 10:32:25  2015-12-31 09:27:20  \n2  2015-12-29 09:43:36  2015-12-30 09:34:05  2015-12-31 10:28:39  \n3  2015-12-29 09:33:16  2015-12-30 10:18:12  2015-12-31 10:01:15  \n4  2015-12-29 10:30:53  2015-12-30 09:18:21  2015-12-31 09:41:09  \n\n[5 rows x 261 columns]",
      "text/html": "<div>\n<style scoped>\n    .dataframe tbody tr th:only-of-type {\n        vertical-align: middle;\n    }\n\n    .dataframe tbody tr th {\n        vertical-align: top;\n    }\n\n    .dataframe thead th {\n        text-align: right;\n    }\n</style>\n<table border=\"1\" class=\"dataframe\">\n  <thead>\n    <tr style=\"text-align: right;\">\n      <th></th>\n      <th>2015-01-01</th>\n      <th>2015-01-02</th>\n      <th>2015-01-05</th>\n      <th>2015-01-06</th>\n      <th>2015-01-07</th>\n      <th>2015-01-08</th>\n      <th>2015-01-09</th>\n      <th>2015-01-12</th>\n      <th>2015-01-13</th>\n      <th>2015-01-14</th>\n      <th>...</th>\n      <th>2015-12-18</th>\n      <th>2015-12-21</th>\n      <th>2015-12-22</th>\n      <th>2015-12-23</th>\n      <th>2015-12-24</th>\n      <th>2015-12-25</th>\n      <th>2015-12-28</th>\n      <th>2015-12-29</th>\n      <th>2015-12-30</th>\n      <th>2015-12-31</th>\n    </tr>\n  </thead>\n  <tbody>\n    <tr>\n      <th>0</th>\n      <td>NaN</td>\n      <td>2015-01-02 09:43:45</td>\n      <td>2015-01-05 10:08:48</td>\n      <td>2015-01-06 09:54:26</td>\n      <td>2015-01-07 09:34:31</td>\n      <td>2015-01-08 09:51:09</td>\n      <td>2015-01-09 10:09:25</td>\n      <td>2015-01-12 09:42:53</td>\n      <td>2015-01-13 10:13:06</td>\n      <td>NaN</td>\n      <td>...</td>\n      <td>NaN</td>\n      <td>2015-12-21 09:55:29</td>\n      <td>2015-12-22 10:04:06</td>\n      <td>2015-12-23 10:14:27</td>\n      <td>2015-12-24 10:11:35</td>\n      <td>NaN</td>\n      <td>2015-12-28 10:13:41</td>\n      <td>2015-12-29 10:03:36</td>\n      <td>2015-12-30 09:54:12</td>\n      <td>2015-12-31 10:12:44</td>\n    </tr>\n    <tr>\n      <th>1</th>\n      <td>NaN</td>\n      <td>2015-01-02 10:15:44</td>\n      <td>2015-01-05 10:21:05</td>\n      <td>NaN</td>\n      <td>2015-01-07 09:45:17</td>\n      <td>2015-01-08 10:09:04</td>\n      <td>2015-01-09 09:43:26</td>\n      <td>2015-01-12 10:00:07</td>\n      <td>2015-01-13 10:43:29</td>\n      <td>NaN</td>\n      <td>...</td>\n      <td>2015-12-18 10:37:17</td>\n      <td>2015-12-21 09:49:02</td>\n      <td>2015-12-22 10:33:51</td>\n      <td>2015-12-23 10:12:10</td>\n      <td>NaN</td>\n      <td>NaN</td>\n      <td>2015-12-28 09:31:45</td>\n      <td>2015-12-29 09:55:49</td>\n      <td>2015-12-30 10:32:25</td>\n      <td>2015-12-31 09:27:20</td>\n    </tr>\n    <tr>\n      <th>2</th>\n      <td>NaN</td>\n      <td>2015-01-02 10:17:41</td>\n      <td>2015-01-05 09:50:50</td>\n      <td>2015-01-06 10:14:13</td>\n      <td>2015-01-07 09:47:27</td>\n      <td>2015-01-08 10:03:40</td>\n      <td>2015-01-09 10:05:49</td>\n      <td>2015-01-12 10:03:47</td>\n      <td>2015-01-13 10:21:26</td>\n      <td>NaN</td>\n      <td>...</td>\n      <td>2015-12-18 10:15:14</td>\n      <td>2015-12-21 10:10:28</td>\n      <td>2015-12-22 09:44:44</td>\n      <td>2015-12-23 10:15:54</td>\n      <td>2015-12-24 10:07:26</td>\n      <td>NaN</td>\n      <td>2015-12-28 09:42:05</td>\n      <td>2015-12-29 09:43:36</td>\n      <td>2015-12-30 09:34:05</td>\n      <td>2015-12-31 10:28:39</td>\n    </tr>\n    <tr>\n      <th>3</th>\n      <td>NaN</td>\n      <td>2015-01-02 10:05:06</td>\n      <td>2015-01-05 09:56:32</td>\n      <td>2015-01-06 10:11:07</td>\n      <td>2015-01-07 09:37:30</td>\n      <td>2015-01-08 10:02:08</td>\n      <td>2015-01-09 10:08:12</td>\n      <td>2015-01-12 10:13:42</td>\n      <td>2015-01-13 09:53:22</td>\n      <td>NaN</td>\n      <td>...</td>\n      <td>2015-12-18 10:17:38</td>\n      <td>2015-12-21 09:58:21</td>\n      <td>2015-12-22 10:04:25</td>\n      <td>2015-12-23 10:11:46</td>\n      <td>2015-12-24 09:43:15</td>\n      <td>NaN</td>\n      <td>2015-12-28 09:52:44</td>\n      <td>2015-12-29 09:33:16</td>\n      <td>2015-12-30 10:18:12</td>\n      <td>2015-12-31 10:01:15</td>\n    </tr>\n    <tr>\n      <th>4</th>\n      <td>NaN</td>\n      <td>2015-01-02 10:28:17</td>\n      <td>2015-01-05 09:49:58</td>\n      <td>2015-01-06 09:45:28</td>\n      <td>2015-01-07 09:49:37</td>\n      <td>2015-01-08 10:19:44</td>\n      <td>2015-01-09 10:00:50</td>\n      <td>2015-01-12 10:29:27</td>\n      <td>2015-01-13 09:59:32</td>\n      <td>NaN</td>\n      <td>...</td>\n      <td>2015-12-18 09:58:35</td>\n      <td>2015-12-21 10:03:41</td>\n      <td>2015-12-22 10:10:30</td>\n      <td>2015-12-23 10:13:36</td>\n      <td>2015-12-24 09:44:24</td>\n      <td>NaN</td>\n      <td>2015-12-28 10:05:15</td>\n      <td>2015-12-29 10:30:53</td>\n      <td>2015-12-30 09:18:21</td>\n      <td>2015-12-31 09:41:09</td>\n    </tr>\n  </tbody>\n</table>\n<p>5 rows × 261 columns</p>\n</div>"
     },
     "execution_count": 5,
     "metadata": {},
     "output_type": "execute_result"
    }
   ],
   "source": [
    "in_time = read_data(HR_CASE_STUDY + 'in_time.csv')\n",
    "in_time.head()"
   ],
   "metadata": {
    "collapsed": false,
    "pycharm": {
     "name": "#%%\n"
    }
   }
  },
  {
   "cell_type": "code",
   "execution_count": 6,
   "outputs": [
    {
     "name": "stdout",
     "output_type": "stream",
     "text": [
      "Number of rows :  4410\n",
      "Number of columns :  262\n"
     ]
    },
    {
     "data": {
      "text/plain": "   2015-01-01           2015-01-02           2015-01-05           2015-01-06  \\\n0         NaN  2015-01-02 16:56:15  2015-01-05 17:20:11  2015-01-06 17:19:05   \n1         NaN  2015-01-02 18:22:17  2015-01-05 17:48:22                  NaN   \n2         NaN  2015-01-02 16:59:14  2015-01-05 17:06:46  2015-01-06 16:38:32   \n3         NaN  2015-01-02 17:25:24  2015-01-05 17:14:03  2015-01-06 17:07:42   \n4         NaN  2015-01-02 18:31:37  2015-01-05 17:49:15  2015-01-06 17:26:25   \n\n            2015-01-07           2015-01-08           2015-01-09  \\\n0  2015-01-07 16:34:55  2015-01-08 17:08:32  2015-01-09 17:38:29   \n1  2015-01-07 17:09:06  2015-01-08 17:34:04  2015-01-09 16:52:29   \n2  2015-01-07 16:33:21  2015-01-08 17:24:22  2015-01-09 16:57:30   \n3  2015-01-07 16:32:40  2015-01-08 16:53:11  2015-01-09 17:19:47   \n4  2015-01-07 17:37:59  2015-01-08 17:59:28  2015-01-09 17:44:08   \n\n            2015-01-12           2015-01-13  2015-01-14  ...  \\\n0  2015-01-12 16:58:39  2015-01-13 18:02:58         NaN  ...   \n1  2015-01-12 17:36:48  2015-01-13 18:00:13         NaN  ...   \n2  2015-01-12 17:28:54  2015-01-13 17:21:25         NaN  ...   \n3  2015-01-12 17:13:37  2015-01-13 17:11:45         NaN  ...   \n4  2015-01-12 18:51:21  2015-01-13 18:14:58         NaN  ...   \n\n            2015-12-18           2015-12-21           2015-12-22  \\\n0                  NaN  2015-12-21 17:15:50  2015-12-22 17:27:51   \n1  2015-12-18 18:31:28  2015-12-21 17:34:16  2015-12-22 18:16:35   \n2  2015-12-18 17:02:23  2015-12-21 17:20:17  2015-12-22 16:32:50   \n3  2015-12-18 17:55:23  2015-12-21 16:49:09  2015-12-22 17:24:00   \n4  2015-12-18 17:52:48  2015-12-21 17:43:35  2015-12-22 18:07:57   \n\n            2015-12-23           2015-12-24 2015-12-25           2015-12-28  \\\n0  2015-12-23 16:44:44  2015-12-24 17:47:22        NaN  2015-12-28 18:00:07   \n1  2015-12-23 17:38:18                  NaN        NaN  2015-12-28 17:08:38   \n2  2015-12-23 16:59:43  2015-12-24 16:58:25        NaN  2015-12-28 16:43:31   \n3  2015-12-23 17:36:35  2015-12-24 16:48:21        NaN  2015-12-28 17:19:34   \n4  2015-12-23 18:00:49  2015-12-24 17:59:22        NaN  2015-12-28 17:44:59   \n\n            2015-12-29           2015-12-30           2015-12-31  \n0  2015-12-29 17:22:30  2015-12-30 17:40:56  2015-12-31 17:17:33  \n1  2015-12-29 17:54:46  2015-12-30 18:31:35  2015-12-31 17:40:58  \n2  2015-12-29 17:09:56  2015-12-30 17:06:25  2015-12-31 17:15:50  \n3  2015-12-29 16:58:16  2015-12-30 17:40:11  2015-12-31 17:09:14  \n4  2015-12-29 18:47:00  2015-12-30 17:15:33  2015-12-31 17:42:14  \n\n[5 rows x 261 columns]",
      "text/html": "<div>\n<style scoped>\n    .dataframe tbody tr th:only-of-type {\n        vertical-align: middle;\n    }\n\n    .dataframe tbody tr th {\n        vertical-align: top;\n    }\n\n    .dataframe thead th {\n        text-align: right;\n    }\n</style>\n<table border=\"1\" class=\"dataframe\">\n  <thead>\n    <tr style=\"text-align: right;\">\n      <th></th>\n      <th>2015-01-01</th>\n      <th>2015-01-02</th>\n      <th>2015-01-05</th>\n      <th>2015-01-06</th>\n      <th>2015-01-07</th>\n      <th>2015-01-08</th>\n      <th>2015-01-09</th>\n      <th>2015-01-12</th>\n      <th>2015-01-13</th>\n      <th>2015-01-14</th>\n      <th>...</th>\n      <th>2015-12-18</th>\n      <th>2015-12-21</th>\n      <th>2015-12-22</th>\n      <th>2015-12-23</th>\n      <th>2015-12-24</th>\n      <th>2015-12-25</th>\n      <th>2015-12-28</th>\n      <th>2015-12-29</th>\n      <th>2015-12-30</th>\n      <th>2015-12-31</th>\n    </tr>\n  </thead>\n  <tbody>\n    <tr>\n      <th>0</th>\n      <td>NaN</td>\n      <td>2015-01-02 16:56:15</td>\n      <td>2015-01-05 17:20:11</td>\n      <td>2015-01-06 17:19:05</td>\n      <td>2015-01-07 16:34:55</td>\n      <td>2015-01-08 17:08:32</td>\n      <td>2015-01-09 17:38:29</td>\n      <td>2015-01-12 16:58:39</td>\n      <td>2015-01-13 18:02:58</td>\n      <td>NaN</td>\n      <td>...</td>\n      <td>NaN</td>\n      <td>2015-12-21 17:15:50</td>\n      <td>2015-12-22 17:27:51</td>\n      <td>2015-12-23 16:44:44</td>\n      <td>2015-12-24 17:47:22</td>\n      <td>NaN</td>\n      <td>2015-12-28 18:00:07</td>\n      <td>2015-12-29 17:22:30</td>\n      <td>2015-12-30 17:40:56</td>\n      <td>2015-12-31 17:17:33</td>\n    </tr>\n    <tr>\n      <th>1</th>\n      <td>NaN</td>\n      <td>2015-01-02 18:22:17</td>\n      <td>2015-01-05 17:48:22</td>\n      <td>NaN</td>\n      <td>2015-01-07 17:09:06</td>\n      <td>2015-01-08 17:34:04</td>\n      <td>2015-01-09 16:52:29</td>\n      <td>2015-01-12 17:36:48</td>\n      <td>2015-01-13 18:00:13</td>\n      <td>NaN</td>\n      <td>...</td>\n      <td>2015-12-18 18:31:28</td>\n      <td>2015-12-21 17:34:16</td>\n      <td>2015-12-22 18:16:35</td>\n      <td>2015-12-23 17:38:18</td>\n      <td>NaN</td>\n      <td>NaN</td>\n      <td>2015-12-28 17:08:38</td>\n      <td>2015-12-29 17:54:46</td>\n      <td>2015-12-30 18:31:35</td>\n      <td>2015-12-31 17:40:58</td>\n    </tr>\n    <tr>\n      <th>2</th>\n      <td>NaN</td>\n      <td>2015-01-02 16:59:14</td>\n      <td>2015-01-05 17:06:46</td>\n      <td>2015-01-06 16:38:32</td>\n      <td>2015-01-07 16:33:21</td>\n      <td>2015-01-08 17:24:22</td>\n      <td>2015-01-09 16:57:30</td>\n      <td>2015-01-12 17:28:54</td>\n      <td>2015-01-13 17:21:25</td>\n      <td>NaN</td>\n      <td>...</td>\n      <td>2015-12-18 17:02:23</td>\n      <td>2015-12-21 17:20:17</td>\n      <td>2015-12-22 16:32:50</td>\n      <td>2015-12-23 16:59:43</td>\n      <td>2015-12-24 16:58:25</td>\n      <td>NaN</td>\n      <td>2015-12-28 16:43:31</td>\n      <td>2015-12-29 17:09:56</td>\n      <td>2015-12-30 17:06:25</td>\n      <td>2015-12-31 17:15:50</td>\n    </tr>\n    <tr>\n      <th>3</th>\n      <td>NaN</td>\n      <td>2015-01-02 17:25:24</td>\n      <td>2015-01-05 17:14:03</td>\n      <td>2015-01-06 17:07:42</td>\n      <td>2015-01-07 16:32:40</td>\n      <td>2015-01-08 16:53:11</td>\n      <td>2015-01-09 17:19:47</td>\n      <td>2015-01-12 17:13:37</td>\n      <td>2015-01-13 17:11:45</td>\n      <td>NaN</td>\n      <td>...</td>\n      <td>2015-12-18 17:55:23</td>\n      <td>2015-12-21 16:49:09</td>\n      <td>2015-12-22 17:24:00</td>\n      <td>2015-12-23 17:36:35</td>\n      <td>2015-12-24 16:48:21</td>\n      <td>NaN</td>\n      <td>2015-12-28 17:19:34</td>\n      <td>2015-12-29 16:58:16</td>\n      <td>2015-12-30 17:40:11</td>\n      <td>2015-12-31 17:09:14</td>\n    </tr>\n    <tr>\n      <th>4</th>\n      <td>NaN</td>\n      <td>2015-01-02 18:31:37</td>\n      <td>2015-01-05 17:49:15</td>\n      <td>2015-01-06 17:26:25</td>\n      <td>2015-01-07 17:37:59</td>\n      <td>2015-01-08 17:59:28</td>\n      <td>2015-01-09 17:44:08</td>\n      <td>2015-01-12 18:51:21</td>\n      <td>2015-01-13 18:14:58</td>\n      <td>NaN</td>\n      <td>...</td>\n      <td>2015-12-18 17:52:48</td>\n      <td>2015-12-21 17:43:35</td>\n      <td>2015-12-22 18:07:57</td>\n      <td>2015-12-23 18:00:49</td>\n      <td>2015-12-24 17:59:22</td>\n      <td>NaN</td>\n      <td>2015-12-28 17:44:59</td>\n      <td>2015-12-29 18:47:00</td>\n      <td>2015-12-30 17:15:33</td>\n      <td>2015-12-31 17:42:14</td>\n    </tr>\n  </tbody>\n</table>\n<p>5 rows × 261 columns</p>\n</div>"
     },
     "execution_count": 6,
     "metadata": {},
     "output_type": "execute_result"
    }
   ],
   "source": [
    "out_time = read_data(HR_CASE_STUDY + 'out_time.csv')\n",
    "out_time.head()"
   ],
   "metadata": {
    "collapsed": false,
    "pycharm": {
     "name": "#%%\n"
    }
   }
  },
  {
   "cell_type": "code",
   "execution_count": 17,
   "outputs": [
    {
     "name": "stdout",
     "output_type": "stream",
     "text": [
      "Number of rows :  4410\n",
      "Number of columns :  25\n"
     ]
    },
    {
     "data": {
      "text/plain": "   age attrition     voyageDeTravail                 departement  \\\n0   51       Non     Voyage rarement                      Ventes   \n1   31       Oui  Voyage frequemment  Recherche et Developpement   \n2   32       Non  Voyage frequemment  Recherche et Developpement   \n3   38       Non        Aucun voyage  Recherche et Developpement   \n4   32       Non     Voyage rarement  Recherche et Developpement   \n\n   distanceEntreMaison  nivEtude        filiereEtude  nombreEmploye  \\\n0                    6         2  Sciences de la vie              1   \n1                   10         1  Sciences de la vie              1   \n2                   17         4               Autre              1   \n3                    2         5  Sciences de la vie              1   \n4                   10         1            Medecine              1   \n\n   idEmploye   sexe  ...  nbrAncienEntreprise plusDe18  \\\n0          1  Femme  ...                  1.0        O   \n1          2  Femme  ...                  0.0        O   \n2          3  Homme  ...                  1.0        O   \n3          4  Homme  ...                  3.0        O   \n4          5  Homme  ...                  4.0        O   \n\n  pourcAugmentationDeSalaire  heureStandard  nivCompensation anneeExperience  \\\n0                         11              8                0             1.0   \n1                         23              8                1             6.0   \n2                         15              8                3             5.0   \n3                         11              8                3            13.0   \n4                         12              8                2             9.0   \n\n   nbrFormationAnneeDerniere  anneeAncienete  anneeDernierPromotion  \\\n0                          6               1                      0   \n1                          3               5                      1   \n2                          2               5                      0   \n3                          5               8                      7   \n4                          2               6                      0   \n\n   anneeAvecManager  \n0                 0  \n1                 4  \n2                 3  \n3                 5  \n4                 4  \n\n[5 rows x 24 columns]",
      "text/html": "<div>\n<style scoped>\n    .dataframe tbody tr th:only-of-type {\n        vertical-align: middle;\n    }\n\n    .dataframe tbody tr th {\n        vertical-align: top;\n    }\n\n    .dataframe thead th {\n        text-align: right;\n    }\n</style>\n<table border=\"1\" class=\"dataframe\">\n  <thead>\n    <tr style=\"text-align: right;\">\n      <th></th>\n      <th>age</th>\n      <th>attrition</th>\n      <th>voyageDeTravail</th>\n      <th>departement</th>\n      <th>distanceEntreMaison</th>\n      <th>nivEtude</th>\n      <th>filiereEtude</th>\n      <th>nombreEmploye</th>\n      <th>idEmploye</th>\n      <th>sexe</th>\n      <th>...</th>\n      <th>nbrAncienEntreprise</th>\n      <th>plusDe18</th>\n      <th>pourcAugmentationDeSalaire</th>\n      <th>heureStandard</th>\n      <th>nivCompensation</th>\n      <th>anneeExperience</th>\n      <th>nbrFormationAnneeDerniere</th>\n      <th>anneeAncienete</th>\n      <th>anneeDernierPromotion</th>\n      <th>anneeAvecManager</th>\n    </tr>\n  </thead>\n  <tbody>\n    <tr>\n      <th>0</th>\n      <td>51</td>\n      <td>Non</td>\n      <td>Voyage rarement</td>\n      <td>Ventes</td>\n      <td>6</td>\n      <td>2</td>\n      <td>Sciences de la vie</td>\n      <td>1</td>\n      <td>1</td>\n      <td>Femme</td>\n      <td>...</td>\n      <td>1.0</td>\n      <td>O</td>\n      <td>11</td>\n      <td>8</td>\n      <td>0</td>\n      <td>1.0</td>\n      <td>6</td>\n      <td>1</td>\n      <td>0</td>\n      <td>0</td>\n    </tr>\n    <tr>\n      <th>1</th>\n      <td>31</td>\n      <td>Oui</td>\n      <td>Voyage frequemment</td>\n      <td>Recherche et Developpement</td>\n      <td>10</td>\n      <td>1</td>\n      <td>Sciences de la vie</td>\n      <td>1</td>\n      <td>2</td>\n      <td>Femme</td>\n      <td>...</td>\n      <td>0.0</td>\n      <td>O</td>\n      <td>23</td>\n      <td>8</td>\n      <td>1</td>\n      <td>6.0</td>\n      <td>3</td>\n      <td>5</td>\n      <td>1</td>\n      <td>4</td>\n    </tr>\n    <tr>\n      <th>2</th>\n      <td>32</td>\n      <td>Non</td>\n      <td>Voyage frequemment</td>\n      <td>Recherche et Developpement</td>\n      <td>17</td>\n      <td>4</td>\n      <td>Autre</td>\n      <td>1</td>\n      <td>3</td>\n      <td>Homme</td>\n      <td>...</td>\n      <td>1.0</td>\n      <td>O</td>\n      <td>15</td>\n      <td>8</td>\n      <td>3</td>\n      <td>5.0</td>\n      <td>2</td>\n      <td>5</td>\n      <td>0</td>\n      <td>3</td>\n    </tr>\n    <tr>\n      <th>3</th>\n      <td>38</td>\n      <td>Non</td>\n      <td>Aucun voyage</td>\n      <td>Recherche et Developpement</td>\n      <td>2</td>\n      <td>5</td>\n      <td>Sciences de la vie</td>\n      <td>1</td>\n      <td>4</td>\n      <td>Homme</td>\n      <td>...</td>\n      <td>3.0</td>\n      <td>O</td>\n      <td>11</td>\n      <td>8</td>\n      <td>3</td>\n      <td>13.0</td>\n      <td>5</td>\n      <td>8</td>\n      <td>7</td>\n      <td>5</td>\n    </tr>\n    <tr>\n      <th>4</th>\n      <td>32</td>\n      <td>Non</td>\n      <td>Voyage rarement</td>\n      <td>Recherche et Developpement</td>\n      <td>10</td>\n      <td>1</td>\n      <td>Medecine</td>\n      <td>1</td>\n      <td>5</td>\n      <td>Homme</td>\n      <td>...</td>\n      <td>4.0</td>\n      <td>O</td>\n      <td>12</td>\n      <td>8</td>\n      <td>2</td>\n      <td>9.0</td>\n      <td>2</td>\n      <td>6</td>\n      <td>0</td>\n      <td>4</td>\n    </tr>\n  </tbody>\n</table>\n<p>5 rows × 24 columns</p>\n</div>"
     },
     "execution_count": 17,
     "metadata": {},
     "output_type": "execute_result"
    }
   ],
   "source": [
    "general_data = read_data(HR_CASE_STUDY + 'general_data_fr.csv')\n",
    "general_data.head()"
   ],
   "metadata": {
    "collapsed": false,
    "pycharm": {
     "name": "#%%\n"
    }
   }
  },
  {
   "cell_type": "markdown",
   "source": [
    "### Analyse de General data"
   ],
   "metadata": {
    "collapsed": false
   }
  },
  {
   "cell_type": "code",
   "execution_count": 18,
   "outputs": [
    {
     "name": "stdout",
     "output_type": "stream",
     "text": [
      "Liste des caractéristiques categoriques  :  ['voyageDeTravail', 'departement', 'filiereEtude', 'sexe', 'roleTravail', 'etatMatrimonial', 'plusDe18']\n",
      "Nombre des caractéristiques categoriques :  7\n"
     ]
    }
   ],
   "source": [
    "gen_cat_vars = general_data.drop('attrition', axis=1).select_dtypes(include=['object']).columns.tolist()\n",
    "print('Liste des caractéristiques categoriques  : ', gen_cat_vars)\n",
    "print('Nombre des caractéristiques categoriques : ', len(gen_cat_vars))"
   ],
   "metadata": {
    "collapsed": false,
    "pycharm": {
     "name": "#%%\n"
    }
   }
  },
  {
   "cell_type": "code",
   "execution_count": 19,
   "outputs": [
    {
     "name": "stdout",
     "output_type": "stream",
     "text": [
      "Liste des caractéristiques numériques  :  ['age', 'distanceEntreMaison', 'nivEtude', 'nombreEmploye', 'idEmploye', 'nivTravail', 'revenuMensuel', 'nbrAncienEntreprise', 'pourcAugmentationDeSalaire', 'heureStandard', 'nivCompensation', 'anneeExperience', 'nbrFormationAnneeDerniere', 'anneeAncienete', 'anneeDernierPromotion', 'anneeAvecManager']\n",
      "Nombre des caractéristiques numériques :  16\n"
     ]
    }
   ],
   "source": [
    "gen_num_vars = general_data.select_dtypes(exclude=['object']).columns.tolist()\n",
    "print('Liste des caractéristiques numériques  : ', gen_num_vars)\n",
    "print('Nombre des caractéristiques numériques : ', len(gen_num_vars))"
   ],
   "metadata": {
    "collapsed": false,
    "pycharm": {
     "name": "#%%\n"
    }
   }
  },
  {
   "cell_type": "code",
   "execution_count": 20,
   "outputs": [
    {
     "name": "stdout",
     "output_type": "stream",
     "text": [
      "Les colonnes ayant au moin une valeur vide :  ['nbrAncienEntreprise', 'anneeExperience']\n",
      "Nombre de valeur vide avec pour chaque colonne\n"
     ]
    },
    {
     "data": {
      "text/plain": "nbrAncienEntreprise    19\nanneeExperience         9\ndtype: int64"
     },
     "execution_count": 20,
     "metadata": {},
     "output_type": "execute_result"
    }
   ],
   "source": [
    "gen_col_na = general_data.columns[general_data.isnull().sum() > 0].tolist()\n",
    "print('Les colonnes ayant au moin une valeur vide : ', gen_col_na)\n",
    "print('Nombre de valeur vide avec pour chaque colonne')\n",
    "general_data[gen_col_na].isnull().sum()"
   ],
   "metadata": {
    "collapsed": false,
    "pycharm": {
     "name": "#%%\n"
    }
   }
  },
  {
   "cell_type": "markdown",
   "source": [
    "## Feature engineering"
   ],
   "metadata": {
    "collapsed": false
   }
  },
  {
   "cell_type": "code",
   "execution_count": 21,
   "outputs": [
    {
     "data": {
      "text/plain": "   age  attrition  voyageDeTravail                 departement  \\\n0   51          0                0                      Ventes   \n1   31          1                0  Recherche et Developpement   \n2   32          0                0  Recherche et Developpement   \n3   38          0                0  Recherche et Developpement   \n4   32          0                0  Recherche et Developpement   \n\n   distanceEntreMaison  nivEtude        filiereEtude  nombreEmploye  \\\n0                    6         2  Sciences de la vie              1   \n1                   10         1  Sciences de la vie              1   \n2                   17         4               Autre              1   \n3                    2         5  Sciences de la vie              1   \n4                   10         1            Medecine              1   \n\n   idEmploye   sexe  ...  nbrAncienEntreprise plusDe18  \\\n0          1  Femme  ...                  1.0        O   \n1          2  Femme  ...                  0.0        O   \n2          3  Homme  ...                  1.0        O   \n3          4  Homme  ...                  3.0        O   \n4          5  Homme  ...                  4.0        O   \n\n  pourcAugmentationDeSalaire  heureStandard  nivCompensation anneeExperience  \\\n0                         11              8                0             1.0   \n1                         23              8                1             6.0   \n2                         15              8                3             5.0   \n3                         11              8                3            13.0   \n4                         12              8                2             9.0   \n\n   nbrFormationAnneeDerniere  anneeAncienete  anneeDernierPromotion  \\\n0                          6               1                      0   \n1                          3               5                      1   \n2                          2               5                      0   \n3                          5               8                      7   \n4                          2               6                      0   \n\n   anneeAvecManager  \n0                 0  \n1                 4  \n2                 3  \n3                 5  \n4                 4  \n\n[5 rows x 24 columns]",
      "text/html": "<div>\n<style scoped>\n    .dataframe tbody tr th:only-of-type {\n        vertical-align: middle;\n    }\n\n    .dataframe tbody tr th {\n        vertical-align: top;\n    }\n\n    .dataframe thead th {\n        text-align: right;\n    }\n</style>\n<table border=\"1\" class=\"dataframe\">\n  <thead>\n    <tr style=\"text-align: right;\">\n      <th></th>\n      <th>age</th>\n      <th>attrition</th>\n      <th>voyageDeTravail</th>\n      <th>departement</th>\n      <th>distanceEntreMaison</th>\n      <th>nivEtude</th>\n      <th>filiereEtude</th>\n      <th>nombreEmploye</th>\n      <th>idEmploye</th>\n      <th>sexe</th>\n      <th>...</th>\n      <th>nbrAncienEntreprise</th>\n      <th>plusDe18</th>\n      <th>pourcAugmentationDeSalaire</th>\n      <th>heureStandard</th>\n      <th>nivCompensation</th>\n      <th>anneeExperience</th>\n      <th>nbrFormationAnneeDerniere</th>\n      <th>anneeAncienete</th>\n      <th>anneeDernierPromotion</th>\n      <th>anneeAvecManager</th>\n    </tr>\n  </thead>\n  <tbody>\n    <tr>\n      <th>0</th>\n      <td>51</td>\n      <td>0</td>\n      <td>0</td>\n      <td>Ventes</td>\n      <td>6</td>\n      <td>2</td>\n      <td>Sciences de la vie</td>\n      <td>1</td>\n      <td>1</td>\n      <td>Femme</td>\n      <td>...</td>\n      <td>1.0</td>\n      <td>O</td>\n      <td>11</td>\n      <td>8</td>\n      <td>0</td>\n      <td>1.0</td>\n      <td>6</td>\n      <td>1</td>\n      <td>0</td>\n      <td>0</td>\n    </tr>\n    <tr>\n      <th>1</th>\n      <td>31</td>\n      <td>1</td>\n      <td>0</td>\n      <td>Recherche et Developpement</td>\n      <td>10</td>\n      <td>1</td>\n      <td>Sciences de la vie</td>\n      <td>1</td>\n      <td>2</td>\n      <td>Femme</td>\n      <td>...</td>\n      <td>0.0</td>\n      <td>O</td>\n      <td>23</td>\n      <td>8</td>\n      <td>1</td>\n      <td>6.0</td>\n      <td>3</td>\n      <td>5</td>\n      <td>1</td>\n      <td>4</td>\n    </tr>\n    <tr>\n      <th>2</th>\n      <td>32</td>\n      <td>0</td>\n      <td>0</td>\n      <td>Recherche et Developpement</td>\n      <td>17</td>\n      <td>4</td>\n      <td>Autre</td>\n      <td>1</td>\n      <td>3</td>\n      <td>Homme</td>\n      <td>...</td>\n      <td>1.0</td>\n      <td>O</td>\n      <td>15</td>\n      <td>8</td>\n      <td>3</td>\n      <td>5.0</td>\n      <td>2</td>\n      <td>5</td>\n      <td>0</td>\n      <td>3</td>\n    </tr>\n    <tr>\n      <th>3</th>\n      <td>38</td>\n      <td>0</td>\n      <td>0</td>\n      <td>Recherche et Developpement</td>\n      <td>2</td>\n      <td>5</td>\n      <td>Sciences de la vie</td>\n      <td>1</td>\n      <td>4</td>\n      <td>Homme</td>\n      <td>...</td>\n      <td>3.0</td>\n      <td>O</td>\n      <td>11</td>\n      <td>8</td>\n      <td>3</td>\n      <td>13.0</td>\n      <td>5</td>\n      <td>8</td>\n      <td>7</td>\n      <td>5</td>\n    </tr>\n    <tr>\n      <th>4</th>\n      <td>32</td>\n      <td>0</td>\n      <td>0</td>\n      <td>Recherche et Developpement</td>\n      <td>10</td>\n      <td>1</td>\n      <td>Medecine</td>\n      <td>1</td>\n      <td>5</td>\n      <td>Homme</td>\n      <td>...</td>\n      <td>4.0</td>\n      <td>O</td>\n      <td>12</td>\n      <td>8</td>\n      <td>2</td>\n      <td>9.0</td>\n      <td>2</td>\n      <td>6</td>\n      <td>0</td>\n      <td>4</td>\n    </tr>\n  </tbody>\n</table>\n<p>5 rows × 24 columns</p>\n</div>"
     },
     "execution_count": 21,
     "metadata": {},
     "output_type": "execute_result"
    }
   ],
   "source": [
    "def label_travel(x):\n",
    "    if x==\"Voyage_Rarement\":\n",
    "        return 1\n",
    "    if x==\"Voyage_Frequemment\":\n",
    "        return 2\n",
    "    if x==\"Pas-Voyage\":\n",
    "        return 0\n",
    "    return 0\n",
    "\n",
    "general_data['attrition'] = [1 if a==\"Oui\" else 0 for a in general_data['attrition']]\n",
    "general_data['revenuMensuel'] = np.log10(general_data['revenuMensuel'].values)\n",
    "general_data['voyageDeTravail'] = list(map(label_travel,general_data['voyageDeTravail'].values))\n",
    "gen_cat_vars.remove('voyageDeTravail')\n",
    "gen_num_vars.remove('idEmploye')\n",
    "general_data = general_data.fillna(0)\n",
    "general_data.head()"
   ],
   "metadata": {
    "collapsed": false,
    "pycharm": {
     "name": "#%%\n"
    }
   }
  },
  {
   "cell_type": "markdown",
   "source": [
    "## Créer le modèle"
   ],
   "metadata": {
    "collapsed": false
   }
  },
  {
   "cell_type": "code",
   "execution_count": 23,
   "outputs": [],
   "source": [
    "y = general_data['attrition']\n",
    "X = general_data.drop('attrition', axis=1)\n",
    "X_train, X_test, y_train, y_test = train_test_split(X, y, test_size=.2, random_state=20)"
   ],
   "metadata": {
    "collapsed": false,
    "pycharm": {
     "name": "#%%\n"
    }
   }
  },
  {
   "cell_type": "markdown",
   "source": [
    "### One hot encoding"
   ],
   "metadata": {
    "collapsed": false
   }
  },
  {
   "cell_type": "code",
   "execution_count": 24,
   "outputs": [
    {
     "data": {
      "text/plain": "      departement_Recherche et Developpement  departement_Ressources Humaines  \\\n1130                                     1.0                              0.0   \n187                                      1.0                              0.0   \n3106                                     1.0                              0.0   \n2080                                     1.0                              0.0   \n1035                                     0.0                              1.0   \n\n      departement_Ventes  filiereEtude_Autre  \\\n1130                 0.0                 0.0   \n187                  0.0                 0.0   \n3106                 0.0                 0.0   \n2080                 0.0                 0.0   \n1035                 0.0                 0.0   \n\n      filiereEtude_Diplome Polytechnique  filiereEtude_Marketing  \\\n1130                                 0.0                     0.0   \n187                                  0.0                     0.0   \n3106                                 0.0                     0.0   \n2080                                 1.0                     0.0   \n1035                                 0.0                     0.0   \n\n      filiereEtude_Medecine  filiereEtude_Ressources Humaine  \\\n1130                    0.0                              0.0   \n187                     1.0                              0.0   \n3106                    0.0                              0.0   \n2080                    0.0                              0.0   \n1035                    1.0                              0.0   \n\n      filiereEtude_Sciences de la vie  sexe_Femme  ...  revenuMensuel  \\\n1130                              1.0         0.0  ...       4.793022   \n187                               0.0         1.0  ...       5.080302   \n3106                              1.0         0.0  ...       4.799754   \n2080                              0.0         0.0  ...       4.371253   \n1035                              0.0         1.0  ...       4.353724   \n\n      nbrAncienEntreprise  pourcAugmentationDeSalaire  heureStandard  \\\n1130                  5.0                          17              8   \n187                   3.0                          11              8   \n3106                  3.0                          12              8   \n2080                  1.0                          16              8   \n1035                  4.0                          18              8   \n\n      nivCompensation  anneeExperience  nbrFormationAnneeDerniere  \\\n1130                1              9.0                          5   \n187                 0             37.0                          5   \n3106                1             32.0                          3   \n2080                0              6.0                          4   \n1035                0              7.0                          2   \n\n      anneeAncienete  anneeDernierPromotion  anneeAvecManager  \n1130               5                      1                 2  \n187               10                      7                 7  \n3106               1                      0                 0  \n2080               6                      3                 3  \n1035               3                      1                 2  \n\n[5 rows x 39 columns]",
      "text/html": "<div>\n<style scoped>\n    .dataframe tbody tr th:only-of-type {\n        vertical-align: middle;\n    }\n\n    .dataframe tbody tr th {\n        vertical-align: top;\n    }\n\n    .dataframe thead th {\n        text-align: right;\n    }\n</style>\n<table border=\"1\" class=\"dataframe\">\n  <thead>\n    <tr style=\"text-align: right;\">\n      <th></th>\n      <th>departement_Recherche et Developpement</th>\n      <th>departement_Ressources Humaines</th>\n      <th>departement_Ventes</th>\n      <th>filiereEtude_Autre</th>\n      <th>filiereEtude_Diplome Polytechnique</th>\n      <th>filiereEtude_Marketing</th>\n      <th>filiereEtude_Medecine</th>\n      <th>filiereEtude_Ressources Humaine</th>\n      <th>filiereEtude_Sciences de la vie</th>\n      <th>sexe_Femme</th>\n      <th>...</th>\n      <th>revenuMensuel</th>\n      <th>nbrAncienEntreprise</th>\n      <th>pourcAugmentationDeSalaire</th>\n      <th>heureStandard</th>\n      <th>nivCompensation</th>\n      <th>anneeExperience</th>\n      <th>nbrFormationAnneeDerniere</th>\n      <th>anneeAncienete</th>\n      <th>anneeDernierPromotion</th>\n      <th>anneeAvecManager</th>\n    </tr>\n  </thead>\n  <tbody>\n    <tr>\n      <th>1130</th>\n      <td>1.0</td>\n      <td>0.0</td>\n      <td>0.0</td>\n      <td>0.0</td>\n      <td>0.0</td>\n      <td>0.0</td>\n      <td>0.0</td>\n      <td>0.0</td>\n      <td>1.0</td>\n      <td>0.0</td>\n      <td>...</td>\n      <td>4.793022</td>\n      <td>5.0</td>\n      <td>17</td>\n      <td>8</td>\n      <td>1</td>\n      <td>9.0</td>\n      <td>5</td>\n      <td>5</td>\n      <td>1</td>\n      <td>2</td>\n    </tr>\n    <tr>\n      <th>187</th>\n      <td>1.0</td>\n      <td>0.0</td>\n      <td>0.0</td>\n      <td>0.0</td>\n      <td>0.0</td>\n      <td>0.0</td>\n      <td>1.0</td>\n      <td>0.0</td>\n      <td>0.0</td>\n      <td>1.0</td>\n      <td>...</td>\n      <td>5.080302</td>\n      <td>3.0</td>\n      <td>11</td>\n      <td>8</td>\n      <td>0</td>\n      <td>37.0</td>\n      <td>5</td>\n      <td>10</td>\n      <td>7</td>\n      <td>7</td>\n    </tr>\n    <tr>\n      <th>3106</th>\n      <td>1.0</td>\n      <td>0.0</td>\n      <td>0.0</td>\n      <td>0.0</td>\n      <td>0.0</td>\n      <td>0.0</td>\n      <td>0.0</td>\n      <td>0.0</td>\n      <td>1.0</td>\n      <td>0.0</td>\n      <td>...</td>\n      <td>4.799754</td>\n      <td>3.0</td>\n      <td>12</td>\n      <td>8</td>\n      <td>1</td>\n      <td>32.0</td>\n      <td>3</td>\n      <td>1</td>\n      <td>0</td>\n      <td>0</td>\n    </tr>\n    <tr>\n      <th>2080</th>\n      <td>1.0</td>\n      <td>0.0</td>\n      <td>0.0</td>\n      <td>0.0</td>\n      <td>1.0</td>\n      <td>0.0</td>\n      <td>0.0</td>\n      <td>0.0</td>\n      <td>0.0</td>\n      <td>0.0</td>\n      <td>...</td>\n      <td>4.371253</td>\n      <td>1.0</td>\n      <td>16</td>\n      <td>8</td>\n      <td>0</td>\n      <td>6.0</td>\n      <td>4</td>\n      <td>6</td>\n      <td>3</td>\n      <td>3</td>\n    </tr>\n    <tr>\n      <th>1035</th>\n      <td>0.0</td>\n      <td>1.0</td>\n      <td>0.0</td>\n      <td>0.0</td>\n      <td>0.0</td>\n      <td>0.0</td>\n      <td>1.0</td>\n      <td>0.0</td>\n      <td>0.0</td>\n      <td>1.0</td>\n      <td>...</td>\n      <td>4.353724</td>\n      <td>4.0</td>\n      <td>18</td>\n      <td>8</td>\n      <td>0</td>\n      <td>7.0</td>\n      <td>2</td>\n      <td>3</td>\n      <td>1</td>\n      <td>2</td>\n    </tr>\n  </tbody>\n</table>\n<p>5 rows × 39 columns</p>\n</div>"
     },
     "execution_count": 24,
     "metadata": {},
     "output_type": "execute_result"
    }
   ],
   "source": [
    "encoder = OneHotEncoder(sparse=False, handle_unknown='ignore')\n",
    "X_enc = encoder.fit_transform(X_train[gen_cat_vars])\n",
    "X_train_cat = pd.DataFrame(X_enc, columns=encoder.get_feature_names_out(), index=X_train.index)\n",
    "\n",
    "X_train = pd.concat([X_train_cat, X_train[gen_num_vars]], axis=1)\n",
    "X_train.head()"
   ],
   "metadata": {
    "collapsed": false,
    "pycharm": {
     "name": "#%%\n"
    }
   }
  },
  {
   "cell_type": "code",
   "execution_count": 25,
   "outputs": [
    {
     "data": {
      "text/plain": "      departement_Recherche et Developpement  departement_Ressources Humaines  \\\n913                                      0.0                              0.0   \n2163                                     0.0                              0.0   \n3819                                     0.0                              0.0   \n834                                      0.0                              0.0   \n1745                                     1.0                              0.0   \n\n      departement_Ventes  filiereEtude_Autre  \\\n913                  1.0                 0.0   \n2163                 1.0                 0.0   \n3819                 1.0                 0.0   \n834                  1.0                 0.0   \n1745                 0.0                 0.0   \n\n      filiereEtude_Diplome Polytechnique  filiereEtude_Marketing  \\\n913                                  0.0                     1.0   \n2163                                 0.0                     0.0   \n3819                                 0.0                     1.0   \n834                                  0.0                     0.0   \n1745                                 0.0                     0.0   \n\n      filiereEtude_Medecine  filiereEtude_Ressources Humaine  \\\n913                     0.0                              0.0   \n2163                    0.0                              0.0   \n3819                    0.0                              0.0   \n834                     0.0                              0.0   \n1745                    1.0                              0.0   \n\n      filiereEtude_Sciences de la vie  sexe_Femme  ...  revenuMensuel  \\\n913                               0.0         0.0  ...       4.560265   \n2163                              1.0         1.0  ...       4.442950   \n3819                              0.0         0.0  ...       4.986996   \n834                               1.0         0.0  ...       4.553883   \n1745                              0.0         1.0  ...       4.709779   \n\n      nbrAncienEntreprise  pourcAugmentationDeSalaire  heureStandard  \\\n913                   3.0                          16              8   \n2163                  1.0                          11              8   \n3819                  1.0                          18              8   \n834                   4.0                          20              8   \n1745                  5.0                          18              8   \n\n      nivCompensation  anneeExperience  nbrFormationAnneeDerniere  \\\n913                 2             10.0                          0   \n2163                0             19.0                          3   \n3819                2              4.0                          3   \n834                 1              8.0                          1   \n1745                0             20.0                          2   \n\n      anneeAncienete  anneeDernierPromotion  anneeAvecManager  \n913                4                      0                 3  \n2163              19                     11                 9  \n3819               4                      1                 3  \n834                5                      0                 3  \n1745              18                      1                12  \n\n[5 rows x 39 columns]",
      "text/html": "<div>\n<style scoped>\n    .dataframe tbody tr th:only-of-type {\n        vertical-align: middle;\n    }\n\n    .dataframe tbody tr th {\n        vertical-align: top;\n    }\n\n    .dataframe thead th {\n        text-align: right;\n    }\n</style>\n<table border=\"1\" class=\"dataframe\">\n  <thead>\n    <tr style=\"text-align: right;\">\n      <th></th>\n      <th>departement_Recherche et Developpement</th>\n      <th>departement_Ressources Humaines</th>\n      <th>departement_Ventes</th>\n      <th>filiereEtude_Autre</th>\n      <th>filiereEtude_Diplome Polytechnique</th>\n      <th>filiereEtude_Marketing</th>\n      <th>filiereEtude_Medecine</th>\n      <th>filiereEtude_Ressources Humaine</th>\n      <th>filiereEtude_Sciences de la vie</th>\n      <th>sexe_Femme</th>\n      <th>...</th>\n      <th>revenuMensuel</th>\n      <th>nbrAncienEntreprise</th>\n      <th>pourcAugmentationDeSalaire</th>\n      <th>heureStandard</th>\n      <th>nivCompensation</th>\n      <th>anneeExperience</th>\n      <th>nbrFormationAnneeDerniere</th>\n      <th>anneeAncienete</th>\n      <th>anneeDernierPromotion</th>\n      <th>anneeAvecManager</th>\n    </tr>\n  </thead>\n  <tbody>\n    <tr>\n      <th>913</th>\n      <td>0.0</td>\n      <td>0.0</td>\n      <td>1.0</td>\n      <td>0.0</td>\n      <td>0.0</td>\n      <td>1.0</td>\n      <td>0.0</td>\n      <td>0.0</td>\n      <td>0.0</td>\n      <td>0.0</td>\n      <td>...</td>\n      <td>4.560265</td>\n      <td>3.0</td>\n      <td>16</td>\n      <td>8</td>\n      <td>2</td>\n      <td>10.0</td>\n      <td>0</td>\n      <td>4</td>\n      <td>0</td>\n      <td>3</td>\n    </tr>\n    <tr>\n      <th>2163</th>\n      <td>0.0</td>\n      <td>0.0</td>\n      <td>1.0</td>\n      <td>0.0</td>\n      <td>0.0</td>\n      <td>0.0</td>\n      <td>0.0</td>\n      <td>0.0</td>\n      <td>1.0</td>\n      <td>1.0</td>\n      <td>...</td>\n      <td>4.442950</td>\n      <td>1.0</td>\n      <td>11</td>\n      <td>8</td>\n      <td>0</td>\n      <td>19.0</td>\n      <td>3</td>\n      <td>19</td>\n      <td>11</td>\n      <td>9</td>\n    </tr>\n    <tr>\n      <th>3819</th>\n      <td>0.0</td>\n      <td>0.0</td>\n      <td>1.0</td>\n      <td>0.0</td>\n      <td>0.0</td>\n      <td>1.0</td>\n      <td>0.0</td>\n      <td>0.0</td>\n      <td>0.0</td>\n      <td>0.0</td>\n      <td>...</td>\n      <td>4.986996</td>\n      <td>1.0</td>\n      <td>18</td>\n      <td>8</td>\n      <td>2</td>\n      <td>4.0</td>\n      <td>3</td>\n      <td>4</td>\n      <td>1</td>\n      <td>3</td>\n    </tr>\n    <tr>\n      <th>834</th>\n      <td>0.0</td>\n      <td>0.0</td>\n      <td>1.0</td>\n      <td>0.0</td>\n      <td>0.0</td>\n      <td>0.0</td>\n      <td>0.0</td>\n      <td>0.0</td>\n      <td>1.0</td>\n      <td>0.0</td>\n      <td>...</td>\n      <td>4.553883</td>\n      <td>4.0</td>\n      <td>20</td>\n      <td>8</td>\n      <td>1</td>\n      <td>8.0</td>\n      <td>1</td>\n      <td>5</td>\n      <td>0</td>\n      <td>3</td>\n    </tr>\n    <tr>\n      <th>1745</th>\n      <td>1.0</td>\n      <td>0.0</td>\n      <td>0.0</td>\n      <td>0.0</td>\n      <td>0.0</td>\n      <td>0.0</td>\n      <td>1.0</td>\n      <td>0.0</td>\n      <td>0.0</td>\n      <td>1.0</td>\n      <td>...</td>\n      <td>4.709779</td>\n      <td>5.0</td>\n      <td>18</td>\n      <td>8</td>\n      <td>0</td>\n      <td>20.0</td>\n      <td>2</td>\n      <td>18</td>\n      <td>1</td>\n      <td>12</td>\n    </tr>\n  </tbody>\n</table>\n<p>5 rows × 39 columns</p>\n</div>"
     },
     "execution_count": 25,
     "metadata": {},
     "output_type": "execute_result"
    }
   ],
   "source": [
    "X_test_enc = encoder.transform(X_test[gen_cat_vars])\n",
    "X_test_cat = pd.DataFrame(X_test_enc, columns=encoder.get_feature_names_out(), index=X_test.index)\n",
    "\n",
    "X_test = pd.concat([X_test_cat, X_test[gen_num_vars]], axis=1)\n",
    "X_test.head()"
   ],
   "metadata": {
    "collapsed": false,
    "pycharm": {
     "name": "#%%\n"
    }
   }
  },
  {
   "cell_type": "code",
   "execution_count": 26,
   "outputs": [
    {
     "name": "stdout",
     "output_type": "stream",
     "text": [
      "ACC: 0.9931972789115646\n",
      "recall: 0.9602649006622517\n",
      "F1: 0.9797297297297297\n"
     ]
    }
   ],
   "source": [
    "rfc = RandomForestClassifier()\n",
    "rfc.fit(X_train, y_train)\n",
    "y_pred = rfc.predict(X_test)\n",
    "print(\"ACC:\",accuracy_score(y_test, y_pred))\n",
    "print(\"recall:\",recall_score(y_test, y_pred))\n",
    "print(\"F1:\",f1_score(y_test, y_pred))"
   ],
   "metadata": {
    "collapsed": false,
    "pycharm": {
     "name": "#%%\n"
    }
   }
  },
  {
   "cell_type": "code",
   "execution_count": null,
   "outputs": [],
   "source": [],
   "metadata": {
    "collapsed": false,
    "pycharm": {
     "name": "#%%\n"
    }
   }
  }
 ],
 "metadata": {
  "kernelspec": {
   "display_name": "Python 3",
   "language": "python",
   "name": "python3"
  },
  "language_info": {
   "codemirror_mode": {
    "name": "ipython",
    "version": 2
   },
   "file_extension": ".py",
   "mimetype": "text/x-python",
   "name": "python",
   "nbconvert_exporter": "python",
   "pygments_lexer": "ipython2",
   "version": "2.7.6"
  }
 },
 "nbformat": 4,
 "nbformat_minor": 0
}